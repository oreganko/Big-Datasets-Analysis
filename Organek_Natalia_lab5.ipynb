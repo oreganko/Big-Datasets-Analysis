{
 "cells": [
  {
   "cell_type": "markdown",
   "id": "82fccfbe",
   "metadata": {},
   "source": [
    "# Natalia Organek - ADZD -GraphX"
   ]
  },
  {
   "cell_type": "markdown",
   "id": "3042fe0b",
   "metadata": {},
   "source": [
    "## Task 1\n",
    "Wczytać graf Facebooka, krawędzie z pliku musae_facebook_edges.csv, atrybuty page_name oraz page_type z pliku musae_facebook_target.csv.  Policzyć liczbę krawędzi i wierzchołków. (1 p.)\n",
    "[This link](https://snap.stanford.edu/data/facebook-large-page-page-network.html)"
   ]
  },
  {
   "cell_type": "code",
   "execution_count": 1,
   "id": "3fa927b2",
   "metadata": {},
   "outputs": [
    {
     "data": {
      "text/plain": [
       "Intitializing Scala interpreter ..."
      ]
     },
     "metadata": {},
     "output_type": "display_data"
    },
    {
     "data": {
      "text/plain": [
       "Spark Web UI available at http://56d4ddb4ffd4:4040\n",
       "SparkContext available as 'sc' (version = 3.2.0, master = local[*], app id = local-1638992398636)\n",
       "SparkSession available as 'spark'\n"
      ]
     },
     "metadata": {},
     "output_type": "display_data"
    },
    {
     "data": {
      "text/plain": [
       "import org.apache.spark._\n",
       "import org.apache.spark.graphx._\n",
       "import org.apache.spark.sql._\n",
       "import org.apache.spark.rdd.RDD\n"
      ]
     },
     "execution_count": 1,
     "metadata": {},
     "output_type": "execute_result"
    }
   ],
   "source": [
    "import org.apache.spark._\n",
    "import org.apache.spark.graphx._\n",
    "import org.apache.spark.sql._\n",
    "import org.apache.spark.rdd.RDD"
   ]
  },
  {
   "cell_type": "code",
   "execution_count": 14,
   "id": "09e3980d",
   "metadata": {},
   "outputs": [
    {
     "data": {
      "text/plain": [
       "import org.apache.spark.sql.functions._\n"
      ]
     },
     "execution_count": 14,
     "metadata": {},
     "output_type": "execute_result"
    }
   ],
   "source": [
    "import org.apache.spark.sql.functions._"
   ]
  },
  {
   "cell_type": "code",
   "execution_count": 7,
   "id": "9265030e",
   "metadata": {},
   "outputs": [
    {
     "data": {
      "text/plain": [
       "sc: org.apache.spark.SparkContext = org.apache.spark.SparkContext@d5a52ca\n",
       "vertices: org.apache.spark.rdd.RDD[(Long, (String, String))] = MapPartitionsRDD[29] at map at <console>:48\n",
       "edges: org.apache.spark.rdd.RDD[org.apache.spark.graphx.Edge[String]] = MapPartitionsRDD[32] at map at <console>:56\n",
       "default_node: (String, String) = (\"\",\"\")\n",
       "graph: org.apache.spark.graphx.Graph[(String, String),String] = org.apache.spark.graphx.impl.GraphImpl@150039b9\n"
      ]
     },
     "execution_count": 7,
     "metadata": {},
     "output_type": "execute_result"
    }
   ],
   "source": [
    "val sc = (\n",
    "    SparkContext\n",
    "    .getOrCreate(\n",
    "        new SparkConf()\n",
    "        .setAppName(\"GraphX lab\")\n",
    "        .setMaster(\"local[*]\")\n",
    "    )\n",
    ")\n",
    "\n",
    "val vertices: RDD[(Long, (String, String))] = (\n",
    "    sc.textFile(\"musae_facebook_target.csv\")\n",
    "    .map(line => {\n",
    "        val x = line.split(\",\");\n",
    "        (x(0).toLong, (x(2), x(3)))\n",
    "    })\n",
    ")\n",
    "\n",
    "val edges: RDD[Edge[String]] = (\n",
    "    sc.textFile(\"musae_facebook_edges.csv\")\n",
    "    .map(line => {\n",
    "        val x = line.split(\",\");\n",
    "        Edge(x(0).toLong, x(1).toLong, \"\")\n",
    "    })\n",
    ")\n",
    "\n",
    "val default_node = (\"\", \"\")\n",
    "\n",
    "val graph: Graph[(String, String), String] = Graph(vertices, edges, default_node)"
   ]
  },
  {
   "cell_type": "code",
   "execution_count": 8,
   "id": "2998beb4",
   "metadata": {},
   "outputs": [
    {
     "data": {
      "text/plain": [
       "res3: Long = 22470\n"
      ]
     },
     "execution_count": 8,
     "metadata": {},
     "output_type": "execute_result"
    }
   ],
   "source": [
    "graph.vertices.count()"
   ]
  },
  {
   "cell_type": "code",
   "execution_count": 9,
   "id": "8895df28",
   "metadata": {},
   "outputs": [
    {
     "data": {
      "text/plain": [
       "res4: Long = 171002\n"
      ]
     },
     "execution_count": 9,
     "metadata": {},
     "output_type": "execute_result"
    }
   ],
   "source": [
    "graph.edges.count()"
   ]
  },
  {
   "cell_type": "code",
   "execution_count": 29,
   "id": "b982622c",
   "metadata": {},
   "outputs": [
    {
     "data": {
      "text/plain": [
       "res14: Array[org.apache.spark.graphx.EdgeTriplet[(String, String),String]] = Array(((0,(The Voice of China 中国好声音,tvshow)),(18427,(The Voice Global,tvshow)),), ((1,(U.S. Consulate General Mumbai,government)),(2812,(\"U.S. Embassy Colombo, Sri Lanka\")),), ((1,(U.S. Consulate General Mumbai,government)),(4987,(SportsUnited - U.S. Department of State,government)),), ((1,(U.S. Consulate General Mumbai,government)),(5228,(U.S. Embassy India,government)),), ((1,(U.S. Consulate General Mumbai,government)),(5307,(U.S. Mission Vienna,government)),), ((1,(U.S. Consulate General Mumbai,government)),(5755,(U.S. Embassy-Dhaka,government)),), ((1,(U.S. Consulate General Mumbai,government)),(6829,(U.S. Consulate General Karachi,government)),), ((1,(U.S. Consulate General Mumbai,government)),(7136,(USAID...\n"
      ]
     },
     "execution_count": 29,
     "metadata": {},
     "output_type": "execute_result"
    }
   ],
   "source": [
    "graph.triplets.collect"
   ]
  },
  {
   "cell_type": "markdown",
   "id": "fcac06a8",
   "metadata": {},
   "source": [
    "## Task 2\n",
    "Sprawdzić czy graf jest spójny. Czy dwa podgrafy utworzone dla typów strony politician oraz company też są spójne? (1 p.)"
   ]
  },
  {
   "cell_type": "code",
   "execution_count": 10,
   "id": "69863a96",
   "metadata": {},
   "outputs": [
    {
     "data": {
      "text/plain": [
       "isConnected: (graph: org.apache.spark.graphx.Graph[(String, String),String])Boolean\n"
      ]
     },
     "execution_count": 10,
     "metadata": {},
     "output_type": "execute_result"
    }
   ],
   "source": [
    "def isConnected(graph: Graph[(String, String), String]): Boolean = {\n",
    "    graph.vertices.count() == graph.connectedComponents().vertices.count()\n",
    "}"
   ]
  },
  {
   "cell_type": "code",
   "execution_count": 11,
   "id": "6609a746",
   "metadata": {},
   "outputs": [
    {
     "name": "stdout",
     "output_type": "stream",
     "text": [
      "true\n"
     ]
    }
   ],
   "source": [
    "println(isConnected(graph))"
   ]
  },
  {
   "cell_type": "code",
   "execution_count": 24,
   "id": "5b2dec98",
   "metadata": {},
   "outputs": [
    {
     "data": {
      "text/plain": [
       "politicians_graph: org.apache.spark.graphx.Graph[(String, String),String] = org.apache.spark.graphx.impl.GraphImpl@3d776a09\n"
      ]
     },
     "execution_count": 24,
     "metadata": {},
     "output_type": "execute_result"
    }
   ],
   "source": [
    "val politicians_graph = graph.subgraph(\n",
    "    vpred={ case (f_id, (name, cat)) => cat == \"politician\"}\n",
    ")"
   ]
  },
  {
   "cell_type": "code",
   "execution_count": 25,
   "id": "20fb18fd",
   "metadata": {},
   "outputs": [
    {
     "name": "stdout",
     "output_type": "stream",
     "text": [
      "true\n"
     ]
    }
   ],
   "source": [
    "println(isConnected(politicians_graph))"
   ]
  },
  {
   "cell_type": "code",
   "execution_count": 26,
   "id": "cd8ab1de",
   "metadata": {},
   "outputs": [
    {
     "data": {
      "text/plain": [
       "companies_graph: org.apache.spark.graphx.Graph[(String, String),String] = org.apache.spark.graphx.impl.GraphImpl@4046fe02\n"
      ]
     },
     "execution_count": 26,
     "metadata": {},
     "output_type": "execute_result"
    }
   ],
   "source": [
    "val companies_graph = graph.subgraph(\n",
    "    vpred={ case (f_id, (name, cat)) => cat == \"company\"}\n",
    ")"
   ]
  },
  {
   "cell_type": "code",
   "execution_count": 28,
   "id": "b2860eb3",
   "metadata": {},
   "outputs": [
    {
     "name": "stdout",
     "output_type": "stream",
     "text": [
      "true\n"
     ]
    }
   ],
   "source": [
    "println(isConnected(companies_graph))"
   ]
  },
  {
   "cell_type": "markdown",
   "id": "d03d842c",
   "metadata": {},
   "source": [
    "## Task 3\n",
    "Spośród 1000 stron o najwyższym PageRank znaleźć 50 takich (wypisać page_name i page_type), które mają najmniej połączeń oraz 50 o największej liczbie połączeń. Który typ strony był dominujący w każdej z tych kategorii? Narysować wykres zależności PageRank od liczby krawędzi dla wierzchołków (scatter plot) (2 p.)"
   ]
  },
  {
   "cell_type": "code",
   "execution_count": 33,
   "id": "ff9ef40f",
   "metadata": {},
   "outputs": [
    {
     "data": {
      "text/plain": [
       "ranks: org.apache.spark.graphx.VertexRDD[Double] = VertexRDDImpl[3208] at RDD at VertexRDD.scala:57\n",
       "rankDegreesNo: org.apache.spark.rdd.RDD[(org.apache.spark.graphx.VertexId, (Double, Int))] = MapPartitionsRDD[3217] at join at <console>:40\n"
      ]
     },
     "execution_count": 33,
     "metadata": {},
     "output_type": "execute_result"
    }
   ],
   "source": [
    "val ranks = graph.pageRank(0.0001).vertices\n",
    "\n",
    "val rankDegreesNo = ranks.join(graph.degrees)"
   ]
  },
  {
   "cell_type": "code",
   "execution_count": 36,
   "id": "746fae61",
   "metadata": {},
   "outputs": [
    {
     "data": {
      "text/plain": [
       "res20: Array[(org.apache.spark.graphx.VertexId, (Double, Int))] = Array((18136,(0.5867769331579539,1)), (17306,(0.8334493129950101,3)), (11119,(0.4092427032333338,9)))\n"
      ]
     },
     "execution_count": 36,
     "metadata": {},
     "output_type": "execute_result"
    }
   ],
   "source": [
    "rankDegreesNo.takeSample(false, 3)"
   ]
  },
  {
   "cell_type": "code",
   "execution_count": 41,
   "id": "79fb474a",
   "metadata": {},
   "outputs": [
    {
     "data": {
      "text/plain": [
       "graphWithRankedDegrees: org.apache.spark.graphx.Graph[(String, String, Double, Int),String] = org.apache.spark.graphx.impl.GraphImpl@68670338\n"
      ]
     },
     "execution_count": 41,
     "metadata": {},
     "output_type": "execute_result"
    }
   ],
   "source": [
    "val graphWithRankedDegrees = graph.outerJoinVertices(rankDegreesNo) \n",
    "{\n",
    "    (id, page_data, vertexWithRank) => (\n",
    "        page_data._1,  // page_name\n",
    "        page_data._2,  // page_type\n",
    "        vertexWithRank.getOrElse((0.0, 0))._1,  // PageRank value\n",
    "        vertexWithRank.getOrElse((0.0, 0))._2   // degree\n",
    "    )\n",
    "}"
   ]
  },
  {
   "cell_type": "code",
   "execution_count": 39,
   "id": "639feaaa",
   "metadata": {},
   "outputs": [
    {
     "data": {
      "text/plain": [
       "res22: Array[(org.apache.spark.graphx.VertexId, (String, String, Double, Int))] = Array((9638,(Baci Perugina,company,0.4065890958159526,1)), (13005,(\"Norbert Spinrath,\" MdB\"\",0.5298348945629537,21)), (10940,(Transavia,company,0.450447056659044,3)))\n"
      ]
     },
     "execution_count": 39,
     "metadata": {},
     "output_type": "execute_result"
    }
   ],
   "source": [
    "graphWithRankedDegrees.vertices.takeSample(false, 3)"
   ]
  },
  {
   "cell_type": "code",
   "execution_count": 80,
   "id": "111c3f10",
   "metadata": {},
   "outputs": [
    {
     "data": {
      "text/plain": [
       "ranked_1000: Array[(org.apache.spark.graphx.VertexId, (String, String, Double, Int))] = Array((21729,(The Obama White House,government,118.94062246225538,659)), (22208,(U.S. Department of State: Consular Affairs,government,67.13872903779196,205)), (21781,(Microsoft,company,56.441613845716724,14)), (22440,(City of Los Altos Police Department,government,55.24474131605187,43)), (22057,(The Connecticut National Guard,government,48.04856548640848,68)), (22438,(Federica Mogherini,politician,47.839737511075526,104)), (22329,(NHTSA,government,47.03110185658694,105)), (20415,(Joachim Herrmann,politician,42.78414021359476,320)), (22403,(Dr. Hedy Fry,politician,36.55870819775559,148)), (21955,(Digicel,company,36.209244761763706,83)), (19743,(The White House,government,34.638867699989376,678)), (22...\n"
      ]
     },
     "execution_count": 80,
     "metadata": {},
     "output_type": "execute_result"
    }
   ],
   "source": [
    "val ranked_1000 = (\n",
    "    graphWithRankedDegrees\n",
    "    .vertices.sortBy(_._2._3, ascending=false).take(1000)\n",
    ")"
   ]
  },
  {
   "cell_type": "code",
   "execution_count": 81,
   "id": "dd3b54f3",
   "metadata": {},
   "outputs": [
    {
     "data": {
      "text/plain": [
       "tail_50: Array[(org.apache.spark.graphx.VertexId, (String, String, Double, Int))] = Array((21312,(New Balance Brasil,company,4.813144726586124,1)), (21726,(Kinder,company,6.035659502181131,2)), (22165,(adidas Women,company,5.148698067549846,2)), (21765,(財政部關務署高雄關,government,4.650875131715342,2)), (21884,(\"Australian High Commission,\" Malta\"\",4.598049278714286,2)), (14609,(spark7,company,6.3437837553842265,3)), (5563,(Viessmann,company,6.081924855755155,3)), (22260,(The Sopranos,tvshow,4.756389218533157,3)), (21125,(CT Style,tvshow,4.494935310239416,3)), (13880,(\"Bom dia Amazônia,\" Jornal do AC e G1 AC\"\",4.053921169063899,3)), (20777,(Jaguar,company,4.042693892291008,3)), (22462,(Werner Langen,politician,3.7385399162306263,3)), (22088,(Samsung,company,3.58589718740585,3)), (21391,(Oracle...\n"
      ]
     },
     "execution_count": 81,
     "metadata": {},
     "output_type": "execute_result"
    }
   ],
   "source": [
    "val tail_50 = (\n",
    "    ranked_1000.sortBy(_._2._4).take(50)\n",
    ")"
   ]
  },
  {
   "cell_type": "code",
   "execution_count": 88,
   "id": "72e32279",
   "metadata": {},
   "outputs": [
    {
     "data": {
      "text/plain": [
       "top_50: Array[(org.apache.spark.graphx.VertexId, (String, String, Double, Int))] = Array((16895,(U.S. Army,government,20.611043303459116,709)), (19743,(The White House,government,34.638867699989376,678)), (21729,(The Obama White House,government,118.94062246225538,659)), (14497,(U.S. Army Chaplain Corps,government,16.245459331337617,650)), (10379,(U.S. Department of State,government,12.346423772468668,468)), (19347,(FEMA Federal Emergency Management Agency,government,25.577927493564236,448)), (21120,(European Parliament,government,10.078283487641166,417)), (15236,(United States Air Force,government,6.834541980826256,375)), (10426,(\"Los Angeles District,\" U.S. Army Corps of Engineers\"\",6.954618858672891,370)), (11003,(Barack Obama,politician,8.344303166882193,341)), (22171,(U.S. Embassy ...\n"
      ]
     },
     "execution_count": 88,
     "metadata": {},
     "output_type": "execute_result"
    }
   ],
   "source": [
    "val top_50 = (\n",
    "    ranked_1000.sortWith(_._2._4 > _._2._4).take(50)\n",
    ")"
   ]
  },
  {
   "cell_type": "code",
   "execution_count": 76,
   "id": "107b0ee0",
   "metadata": {},
   "outputs": [
    {
     "name": "stdout",
     "output_type": "stream",
     "text": [
      "( Ciencia y Tecnología\",\"Secretaría de Innovación)\n",
      "( Jornal do AC e G1 AC\",\"Bom dia Amazônia)\n",
      "( Malta\",\"Australian High Commission)\n",
      "(company,Akris)\n",
      "(company,BASE Belgium)\n",
      "(company,Cedevita)\n",
      "(company,Chupa Chups)\n",
      "(company,Disney Pixar)\n",
      "(company,ENGIE)\n",
      "(company,El Mundo Del Dulce)\n",
      "(company,FoodSaver)\n",
      "(company,ING Nederland)\n",
      "(company,Jaguar)\n",
      "(company,Kinder)\n",
      "(company,Microsoft Developer)\n",
      "(company,New Balance Brasil)\n",
      "(company,Opodo)\n",
      "(company,Oracle Latin America)\n",
      "(company,Paiz Guatemala)\n",
      "(company,Papas Sabritas)\n",
      "(company,Samsung)\n",
      "(company,Samsung Ukraine)\n",
      "(company,San Pellegrino Fruit Beverages)\n",
      "(company,Skinny)\n",
      "(company,Sour Jacks)\n",
      "(company,Viessmann)\n",
      "(company,Vodafone Careers)\n",
      "(company,Yenda)\n",
      "(company,adidas Women)\n",
      "(company,spark7)\n",
      "(government,財政部關務署高雄關)\n",
      "(politician,Chan Ka Lok 陳家洛)\n",
      "(politician,Daniel Bacquelaine)\n",
      "(politician,David Christopherson)\n",
      "(politician,Elisabeth Kaiser)\n",
      "(politician,Ertuğrul Kürkçü)\n",
      "(politician,Iwona Arent)\n",
      "(politician,Jenny Willott)\n",
      "(politician,Jonathan Stickland)\n",
      "(politician,Josi Nunes)\n",
      "(politician,Juan Carlos Varela)\n",
      "(politician,Martin Rivoir)\n",
      "(politician,Rathika Sitsabaiesan)\n",
      "(politician,Virginie Calmels)\n",
      "(politician,Werner Langen)\n",
      "(tvshow,Borgia)\n",
      "(tvshow,CT Style)\n",
      "(tvshow,Galileo Polska)\n",
      "(tvshow,Reina De Corazones)\n",
      "(tvshow,The Sopranos)\n"
     ]
    }
   ],
   "source": [
    "tail_50.map(x => (x._2._2, x._2._1)).sorted.foreach(x => println(x))"
   ]
  },
  {
   "cell_type": "code",
   "execution_count": 89,
   "id": "bd749c17",
   "metadata": {},
   "outputs": [
    {
     "name": "stdout",
     "output_type": "stream",
     "text": [
      "( Air Force Office of Scientific Research\",\"AFOSR)\n",
      "( U.S. Army Corps of Engineers\",\"Los Angeles District)\n",
      "(company,CNN)\n",
      "(company,NASA - National Aeronautics and Space Administration)\n",
      "(government,Army Family and MWR Programs)\n",
      "(government,Army Housing)\n",
      "(government,Army OneSource)\n",
      "(government,Army Sustainment)\n",
      "(government,CDC)\n",
      "(government,DHA Immunization Healthcare Branch)\n",
      "(government,EU Interpreters)\n",
      "(government,EU Law and Publications)\n",
      "(government,European Commission)\n",
      "(government,European External Action Service - EEAS)\n",
      "(government,European Parliament)\n",
      "(government,FEMA Federal Emergency Management Agency)\n",
      "(government,International Exchange Alumni)\n",
      "(government,NOAA Digital Coast)\n",
      "(government,National Oceanic and Atmospheric Administration (NOAA))\n",
      "(government,Senate of Canada - Sénat du Canada)\n",
      "(government,TRICARE)\n",
      "(government,The Obama White House)\n",
      "(government,The White House)\n",
      "(government,U.S. Army)\n",
      "(government,U.S. Army Chaplain Corps)\n",
      "(government,U.S. Army Command and General Staff College)\n",
      "(government,U.S. Army Europe)\n",
      "(government,U.S. Army Office of the Chief of Public Affairs)\n",
      "(government,U.S. Army Reserve)\n",
      "(government,U.S. Central Command)\n",
      "(government,U.S. Department of State)\n",
      "(government,U.S. Department of State: Bureau of Intl Narcotics & Law Enforcement (INL))\n",
      "(government,U.S. Department of State: Consular Affairs)\n",
      "(government,U.S. Embassy Ottawa)\n",
      "(government,U.S. Embassy in Mozambique)\n",
      "(government,U.S. Marine Corps)\n",
      "(government,U.S. National Weather Service (NWS))\n",
      "(government,USAID - US Agency for International Development)\n",
      "(government,United States Air Force)\n",
      "(government,West Point - The U.S. Military Academy)\n",
      "(politician,Angela Merkel)\n",
      "(politician,Anthony Albanese MP)\n",
      "(politician,Barack Obama)\n",
      "(politician,Joachim Herrmann)\n",
      "(politician,Katarina Barley)\n",
      "(politician,Manfred Weber)\n",
      "(politician,Martin Schulz)\n",
      "(politician,Niels Annen)\n",
      "(politician,Pamela Goldsmith-Jones)\n",
      "(politician,Sir Peter Bottomley MP)\n"
     ]
    }
   ],
   "source": [
    "top_50.map(x => (x._2._2, x._2._1)).sorted.foreach(x => println(x))"
   ]
  },
  {
   "cell_type": "code",
   "execution_count": 95,
   "id": "8c2c3e74",
   "metadata": {},
   "outputs": [
    {
     "data": {
      "text/plain": [
       "rankedVertexDegreesValues: org.apache.spark.rdd.RDD[(Int, Double)] = MapPartitionsRDD[3324] at map at <console>:40\n",
       "res40: Array[(Int, Double)] = Array((32,5.539529951577926), (2,0.3833639801145832), (5,0.4700422492946705))\n"
      ]
     },
     "execution_count": 95,
     "metadata": {},
     "output_type": "execute_result"
    }
   ],
   "source": [
    "val rankedVertexDegreesValues = (\n",
    "    rankDegreesNo\n",
    "    .map(v => (v._2._2, v._2._1))\n",
    ")\n",
    "\n",
    "rankedVertexDegreesValues.takeSample(false, 3)"
   ]
  },
  {
   "cell_type": "code",
   "execution_count": 101,
   "id": "9ba44dfc",
   "metadata": {},
   "outputs": [
    {
     "data": {
      "text/plain": [
       "_: Any = [(43,0.4853834343059285), (58,1.4935385804058123), (2,0.38538536208731455), (5,1.8687981004326157), (110,0.38272374504774975), (6,0.5136025202730955), (10,0.5382385666376308), (8,2.637554571547321), (7,0.41511908674858583), (5,0.7390441422562241), (6,0.41661377258008775), (4,0.3911663861796773), (11,0.5028417266206877), (7,0.4962192608573618), (49,0.37819791897643273), (1,0.5915732030599432), (9,0.3715027271414795), (4,0.3760968738035957), (21,2.030891775148534), (52,3.18636297532063), (7,1.2890143473771638), (4,0.4044542459931443), (10,0.4211069952200033), (33,2.8059416285330636), (8,0.6957909100170292), (1,0.44452623194522656), (4,0.5008068122761202), (1,1.0615994919570833), (2,0.5293913861766084), (26,1.1951483652681323), (20,3.4738715148112407), (6,0.3817511644451146), (9,0...\n",
       "_98: Any = [(43,0.4853834343059285), (58,1.4935385804058123), (2,0.38538536208731455), (5,1.8687981004326157), (110,0.38272374504774975), (6,0.5136025202730955), (10,0.5382385666376308), (8,2.637554571547321), (7,0.41511908674858583), (5,0.7390441422562241), (6,0.41661377258008775), (4,0.3911663861796773), (11,0.5028417266206877), (7,0.4962192608573618), (49,0.37819791897643273), (1,0.5915732030599432), (9,0.3715027271414795), (4,0.3760968738035957), (21,2.030891775148534), (52,3.18636297532063), (7,1.2890143473771638), (4,0.4044542459931443), (10,0.4211069952200033), (33,2.8059416285330636), (8,0.6957909100170292), (1,0.44452623194522656), (4,0.5008068122761202), (1,1.0615994919570833), (2,0.5293913861766084), (26,1.1951483652681323), (20,3.4738715148112407), (6,0.3817511644451146), (9...\n",
       "__: Any = [(43,0.4853834343059285), (58,1.4935385804058123), (2,0.38538536208731455), (5,1.8687981004326157), (110,0.38272374504774975), (6,0.5136025202730955), (10,0.5382385666376308), (8,2.637554571547321), (7,0.41511908674858583), (5,0.7390441422562241), (6,0.41661377258008775), (4,0.3911663861796773), (11,0.5028417266206877), (7,0.4962192608573618), (49,0.37819791897643273), (1,0.5915732030599432), (9,0.3715027271414795), (4,0.3760968738035957), (21,2.030891775148534), (52,3.18636297532063), (7,1.2890143473771638), (4,0.4044542459931443), (10,0.4211069952200033), (33,2.8059416285330636), (8,0.6957909100170292), (1,0.44452623194522656), (4,0.5008068122761202), (1,1.0615994919570833), (2,0.5293913861766084), (26,1.1951483652681323), (20,3.4738715148112407), (6,0.3817511644451146), (9,...\n",
       "_: Any = [[(, 4, 3, ,, 0, ., 4, 8, 5, 3, 8, 3, 4, 3, 4, 3, 0, 5, 9, 2, 8, 5, )], [(, 5, 8, ,, 1, ., 4, 9, 3, 5, 3, 8, 5, 8, 0, 4, 0, 5, 8, 1, 2, 3, )], [(, 2, ,, 0, ., 3, 8, 5, 3, 8, 5, 3, 6, 2, 0, 8, 7, 3, 1, 4, 5, 5, )], [(, 5, ,, 1, ., 8, 6, 8, 7, 9, 8, 1, 0, 0, 4, 3, 2, 6, 1, 5, 7, )], [(, 1, 1, 0, ,, 0, ., 3, 8, 2, 7, 2, 3, 7, 4, 5, 0, 4, 7, 7, 4, 9, 7, 5, )], [(, 6, ,, 0, ., 5, 1, 3, 6, 0, 2, 5, 2, 0, 2, 7, 3, 0, 9, 5, 5, )], [(, 1, 0, ,, 0, ., 5, 3, 8, 2, 3, 8, 5, 6, 6, 6, 3, 7, 6, 3, 0, 8, )], [(, 8, ,, 2, ., 6, 3, 7, 5, 5, 4, 5, 7, 1, 5, 4, 7, 3, 2, 1, )], [(, 7, ,, 0, ., 4, 1, 5, 1, 1, 9, 0, 8, 6, 7, 4, 8, 5, 8, 5, 8, 3, )], [(, 5, ,, 0, ., 7, 3, 9, 0, 4, 4, 1, 4, 2, 2, 5, 6, 2, 2, 4, 1, )], [(, 6, ,, 0, ., 4, 1, 6, 6, 1, 3, 7, 7, 2, 5, 8, 0, 0, 8, 7, 7, 5, )], [(, 4, ,, 0, .,...\n",
       "_99: Any = [[(, 4, 3, ,, 0, ., 4, 8, 5, 3, 8, 3, 4, 3, 4, 3, 0, 5, 9, 2, 8, 5, )], [(, 5, 8, ,, 1, ., 4, 9, 3, 5, 3, 8, 5, 8, 0, 4, 0, 5, 8, 1, 2, 3, )], [(, 2, ,, 0, ., 3, 8, 5, 3, 8, 5, 3, 6, 2, 0, 8, 7, 3, 1, 4, 5, 5, )], [(, 5, ,, 1, ., 8, 6, 8, 7, 9, 8, 1, 0, 0, 4, 3, 2, 6, 1, 5, 7, )], [(, 1, 1, 0, ,, 0, ., 3, 8, 2, 7, 2, 3, 7, 4, 5, 0, 4, 7, 7, 4, 9, 7, 5, )], [(, 6, ,, 0, ., 5, 1, 3, 6, 0, 2, 5, 2, 0, 2, 7, 3, 0, 9, 5, 5, )], [(, 1, 0, ,, 0, ., 5, 3, 8, 2, 3, 8, 5, 6, 6, 6, 3, 7, 6, 3, 0, 8, )], [(, 8, ,, 2, ., 6, 3, 7, 5, 5, 4, 5, 7, 1, 5, 4, 7, 3, 2, 1, )], [(, 7, ,, 0, ., 4, 1, 5, 1, 1, 9, 0, 8, 6, 7, 4, 8, 5, 8, 5, 8, 3, )], [(, 5, ,, 0, ., 7, 3, 9, 0, 4, 4, 1, 4, 2, 2, 5, 6, 2, 2, 4, 1, )], [(, 6, ,, 0, ., 4, 1, 6, 6, 1, 3, 7, 7, 2, 5, 8, 0, 0, 8, 7, 7, 5, )], [(, 4, ,, 0, ...\n",
       "___: Any = [(43,0.4853834343059285), (58,1.4935385804058123), (2,0.38538536208731455), (5,1.8687981004326157), (110,0.38272374504774975), (6,0.5136025202730955), (10,0.5382385666376308), (8,2.637554571547321), (7,0.41511908674858583), (5,0.7390441422562241), (6,0.41661377258008775), (4,0.3911663861796773), (11,0.5028417266206877), (7,0.4962192608573618), (49,0.37819791897643273), (1,0.5915732030599432), (9,0.3715027271414795), (4,0.3760968738035957), (21,2.030891775148534), (52,3.18636297532063), (7,1.2890143473771638), (4,0.4044542459931443), (10,0.4211069952200033), (33,2.8059416285330636), (8,0.6957909100170292), (1,0.44452623194522656), (4,0.5008068122761202), (1,1.0615994919570833), (2,0.5293913861766084), (26,1.1951483652681323), (20,3.4738715148112407), (6,0.3817511644451146), (9...\n",
       "__: Any = [[(, 4, 3, ,, 0, ., 4, 8, 5, 3, 8, 3, 4, 3, 4, 3, 0, 5, 9, 2, 8, 5, )], [(, 5, 8, ,, 1, ., 4, 9, 3, 5, 3, 8, 5, 8, 0, 4, 0, 5, 8, 1, 2, 3, )], [(, 2, ,, 0, ., 3, 8, 5, 3, 8, 5, 3, 6, 2, 0, 8, 7, 3, 1, 4, 5, 5, )], [(, 5, ,, 1, ., 8, 6, 8, 7, 9, 8, 1, 0, 0, 4, 3, 2, 6, 1, 5, 7, )], [(, 1, 1, 0, ,, 0, ., 3, 8, 2, 7, 2, 3, 7, 4, 5, 0, 4, 7, 7, 4, 9, 7, 5, )], [(, 6, ,, 0, ., 5, 1, 3, 6, 0, 2, 5, 2, 0, 2, 7, 3, 0, 9, 5, 5, )], [(, 1, 0, ,, 0, ., 5, 3, 8, 2, 3, 8, 5, 6, 6, 6, 3, 7, 6, 3, 0, 8, )], [(, 8, ,, 2, ., 6, 3, 7, 5, 5, 4, 5, 7, 1, 5, 4, 7, 3, 2, 1, )], [(, 7, ,, 0, ., 4, 1, 5, 1, 1, 9, 0, 8, 6, 7, 4, 8, 5, 8, 5, 8, 3, )], [(, 5, ,, 0, ., 7, 3, 9, 0, 4, 4, 1, 4, 2, 2, 5, 6, 2, 2, 4, 1, )], [(, 6, ,, 0, ., 4, 1, 6, 6, 1, 3, 7, 7, 2, 5, 8, 0, 0, 8, 7, 7, 5, )], [(, 4, ,, 0, ....\n",
       "import java.io._\n",
       "file: String = degree_pagerank.csv\n",
       "writer: java.io.BufferedWriter = java.io.BufferedWriter@69304788\n"
      ]
     },
     "execution_count": 101,
     "metadata": {},
     "output_type": "execute_result"
    }
   ],
   "source": [
    "import java.io._\n",
    "\n",
    "val file = \"degree_pagerank.csv\"\n",
    "val writer = new BufferedWriter(new OutputStreamWriter(new FileOutputStream(file)))\n",
    "\n",
    "writer.write(rankedVertexDegreesValues.collect().mkString(\",\"))\n",
    "writer.close()"
   ]
  },
  {
   "cell_type": "code",
   "execution_count": 104,
   "id": "3734a45c",
   "metadata": {},
   "outputs": [
    {
     "data": {
      "image/png": "[encoded data removed]",
      "text/plain": [
       "<IPython.core.display.Image object>"
      ]
     },
     "execution_count": 104,
     "metadata": {},
     "output_type": "execute_result"
    }
   ],
   "source": [
    "%%python\n",
    "from tempfile import NamedTemporaryFile\n",
    "from ast import literal_eval\n",
    "\n",
    "import matplotlib.pyplot as plt\n",
    "from IPython.display import Image\n",
    "\n",
    "with open('degree_pagerank.csv') as file:\n",
    "    text = file.read()\n",
    "    \n",
    "values = literal_eval(text)\n",
    "# values.sort()\n",
    "\n",
    "degrees = [degree for degree, pagerank in values]\n",
    "pagerank = [pagerank for degree, pagerank in values]\n",
    "\n",
    "plt.clf()\n",
    "plt.scatter(degrees, pagerank, c=\"b\")\n",
    "plt.title(\"PageRank value per degree\")\n",
    "\n",
    "with NamedTemporaryFile(suffix=\".png\", delete=False) as file:\n",
    "    plt.savefig(file.name)\n",
    "    retval = Image(filename=file.name)"
   ]
  },
  {
   "cell_type": "markdown",
   "id": "8ae1ab0d",
   "metadata": {},
   "source": [
    "## Task 4\n",
    "Korzystając z Pregel API zaimplementować następujący algorytm. \n",
    "- W pierwszym kroku wybrana strona publikuje post fake news. \n",
    "- W kolejnym kroku ten post publikowany jest przez ⅓ losowo wybranych kontaktów tej strony. \n",
    "- W dalszych krokach, dla każdej strony, która opublikowała już ten post, losowo wybrane ⅓ jej kontaktów publikuje go u siebie. \n",
    "\n",
    "Pokazać jak zmienia się liczba stron które opublikowały post w zależności od liczby kroków. (2 p.)"
   ]
  },
  {
   "cell_type": "code",
   "execution_count": 114,
   "id": "73b6c8ef",
   "metadata": {},
   "outputs": [
    {
     "data": {
      "text/plain": [
       "import scala.language.implicitConversions\n",
       "bool2int: (b: Boolean)Int\n",
       "makePregel: (graph: org.apache.spark.graphx.Graph[Boolean,String], maxIter: Int)Int\n"
      ]
     },
     "execution_count": 114,
     "metadata": {},
     "output_type": "execute_result"
    }
   ],
   "source": [
    "import scala.language.implicitConversions\n",
    "\n",
    "implicit def bool2int(b:Boolean) = if (b) 1 else 0\n",
    "\n",
    "def makePregel(graph: graphx.Graph[Boolean,String], maxIter: Int): Int = {\n",
    "    val publishGraph = Pregel(\n",
    "        graph,\n",
    "        false,\n",
    "        maxIter,\n",
    "        activeDirection = EdgeDirection.Out\n",
    "    )(\n",
    "        (id, value, msg) => value || (msg && scala.util.Random.nextFloat() < 0.333),\n",
    "        triplet => Iterator((triplet.dstId, triplet.srcAttr)),\n",
    "        (a, b) => a || b\n",
    "    )\n",
    "    \n",
    "    publishGraph.vertices.collect().map(v => v._2 * 1).sum\n",
    "}"
   ]
  },
  {
   "cell_type": "code",
   "execution_count": 116,
   "id": "b2f3d3fe",
   "metadata": {},
   "outputs": [
    {
     "data": {
      "text/plain": [
       "publishId: Int = 1\n",
       "initialGraph: org.apache.spark.graphx.Graph[Boolean,String] = org.apache.spark.graphx.impl.GraphImpl@1a1c19a3\n",
       "publisherNumbers: scala.collection.immutable.IndexedSeq[Int] = Vector(12, 128, 410, 740, 1396, 2339, 2837, 3705, 1974, 5438, 5119, 6009, 6824, 5759, 5720, 7634)\n"
      ]
     },
     "execution_count": 116,
     "metadata": {},
     "output_type": "execute_result"
    }
   ],
   "source": [
    "val publishId = 1\n",
    "val initialGraph = ((publishId: VertexId) => graph.mapVertices((id, _) => id == publishId))(publishId)\n",
    "\n",
    "val publisherNumbers = for (maxIter <- 1 to 16) yield makePregel(initialGraph, maxIter)"
   ]
  },
  {
   "cell_type": "code",
   "execution_count": 127,
   "id": "c4729109",
   "metadata": {},
   "outputs": [
    {
     "data": {
      "text/plain": [
       "publishId: Int = 19743\n",
       "initialGraph: org.apache.spark.graphx.Graph[Boolean,String] = org.apache.spark.graphx.impl.GraphImpl@752e3331\n",
       "publisherNumbers: scala.collection.immutable.IndexedSeq[Int] = Vector(25, 54, 120, 150, 177, 224, 210, 274, 295, 324, 334, 327, 341, 340, 347, 345)\n"
      ]
     },
     "execution_count": 127,
     "metadata": {},
     "output_type": "execute_result"
    }
   ],
   "source": [
    "val publishId = 19743\n",
    "val initialGraph = ((publishId: VertexId) => graph.mapVertices((id, _) => id == publishId))(publishId)\n",
    "\n",
    "val publisherNumbers = for (maxIter <- 1 to 16) yield makePregel(initialGraph, maxIter)"
   ]
  },
  {
   "cell_type": "code",
   "execution_count": 128,
   "id": "54d8782c",
   "metadata": {},
   "outputs": [
    {
     "data": {
      "image/png": "[encoded data removed]",
      "text/plain": [
       "<IPython.core.display.Image object>"
      ]
     },
     "execution_count": 128,
     "metadata": {},
     "output_type": "execute_result"
    }
   ],
   "source": [
    "%%python\n",
    "\n",
    "xs = list(range(1, 17))\n",
    "ys = [25, 54, 120, 150, 177, 224, 210, 274, 295, 324, 334, 327, 341, 340, 347, 345]\n",
    "\n",
    "plt.clf()\n",
    "plt.scatter(xs, ys, c=\"b\")\n",
    "plt.title(\"Numer of publishers per number of steps\")\n",
    "\n",
    "with NamedTemporaryFile(suffix=\".png\", delete=False) as file:\n",
    "    plt.savefig(file.name)\n",
    "    retval = Image(filename=file.name)"
   ]
  },
  {
   "cell_type": "markdown",
   "id": "e80c0fc9",
   "metadata": {},
   "source": [
    "## Task 5\n",
    "Narysować wykres rozkładu stopnia wierzchołków w grafie w skali logarytmicznej. Można skorzystać z funkcji obliczającej histogram dla RDD. Czy sieć jest bezskalowa (scale-free)? https://barabasi.com/f/623.pdf  (2 p.)"
   ]
  },
  {
   "cell_type": "code",
   "execution_count": 123,
   "id": "121bb5d1",
   "metadata": {},
   "outputs": [
    {
     "data": {
      "text/plain": [
       "degrees: org.apache.spark.rdd.RDD[Int] = MapPartitionsRDD[34247] at map at <console>:54\n",
       "res44: Array[Int] = Array(6, 81, 66, 2, 3, 18, 3, 5, 3, 14)\n"
      ]
     },
     "execution_count": 123,
     "metadata": {},
     "output_type": "execute_result"
    }
   ],
   "source": [
    "val degrees = graph.degrees.map(v => v._2)\n",
    "\n",
    "degrees.takeSample(false, 10)"
   ]
  },
  {
   "cell_type": "code",
   "execution_count": 124,
   "id": "b3bdee64",
   "metadata": {},
   "outputs": [
    {
     "data": {
      "text/plain": [
       "bins: Array[Double] = Array(1.0, 1.998589562764457, 2.997179125528914, 3.9957686882933707, 4.994358251057828, 5.992947813822285, 6.9915373765867415, 7.990126939351199, 8.988716502115656, 9.987306064880112, 10.98589562764457, 11.984485190409027, 12.983074753173483, 13.981664315937941, 14.980253878702397, 15.978843441466855, 16.97743300423131, 17.97602256699577, 18.974612129760224, 19.973201692524682, 20.97179125528914, 21.970380818053595, 22.968970380818053, 23.96755994358251, 24.966149506346966, 25.964739069111424, 26.963328631875882, 27.96191819464034, 28.960507757404795, 29.959097320169253, 30.95768688293371, 31.956276445698165, 32.95486600846262, 33.95345557122708, 34.95204513399154, 35.950634696756, 36.94922425952045, 37.94781382228491, 38.946403385049365, 39.94499294781382, 40.9435...\n"
      ]
     },
     "execution_count": 124,
     "metadata": {},
     "output_type": "execute_result"
    }
   ],
   "source": [
    "val (bins, values) = degrees.histogram(degrees.max)"
   ]
  },
  {
   "cell_type": "code",
   "execution_count": 125,
   "id": "980f0a32",
   "metadata": {},
   "outputs": [
    {
     "data": {
      "text/plain": [
       "import java.io._\n",
       "file: String = histogram_values.csv\n",
       "writer: java.io.BufferedWriter = java.io.BufferedWriter@7bbe22ff\n"
      ]
     },
     "execution_count": 125,
     "metadata": {},
     "output_type": "execute_result"
    }
   ],
   "source": [
    "import java.io._\n",
    "\n",
    "val file = \"histogram_values.csv\"\n",
    "val writer = new BufferedWriter(new OutputStreamWriter(new FileOutputStream(file)))\n",
    "\n",
    "writer.write(values.mkString(\",\"))\n",
    "writer.close()"
   ]
  },
  {
   "cell_type": "code",
   "execution_count": 126,
   "id": "57b92257",
   "metadata": {},
   "outputs": [
    {
     "data": {
      "image/png": "[encoded data removed]",
      "text/plain": [
       "<IPython.core.display.Image object>"
      ]
     },
     "execution_count": 126,
     "metadata": {},
     "output_type": "execute_result"
    }
   ],
   "source": [
    "%%python\n",
    "from tempfile import NamedTemporaryFile\n",
    "\n",
    "import matplotlib.pyplot as plt\n",
    "import numpy as np\n",
    "from IPython.display import Image\n",
    "\n",
    "with open(\"histogram_values.csv\") as file:\n",
    "    text = file.read()\n",
    "\n",
    "ys = np.array([int(val) for val in text.split(\",\")])\n",
    "xs = list(range(1, len(ys) + 1))\n",
    "\n",
    "plt.clf()\n",
    "plt.scatter(np.log(xs), np.log(ys), color=\"b\")\n",
    "plt.title(\"Degree histogram\")\n",
    "\n",
    "with NamedTemporaryFile(suffix=\".png\", delete=False) as file:\n",
    "    plt.savefig(file.name)\n",
    "    retval = Image(filename=file.name)"
   ]
  },
  {
   "cell_type": "markdown",
   "id": "finite-length",
   "metadata": {},
   "source": [
    "Sieć jest bezskalowa."
   ]
  },
  {
   "cell_type": "code",
   "execution_count": null,
   "id": "photographic-bracelet",
   "metadata": {},
   "outputs": [],
   "source": []
  }
 ],
 "metadata": {
  "kernelspec": {
   "display_name": "spylon-kernel",
   "language": "scala",
   "name": "spylon-kernel"
  },
  "language_info": {
   "codemirror_mode": "text/x-scala",
   "file_extension": ".scala",
   "help_links": [
    {
     "text": "MetaKernel Magics",
     "url": "https://metakernel.readthedocs.io/en/latest/source/README.html"
    }
   ],
   "mimetype": "text/x-scala",
   "name": "scala",
   "pygments_lexer": "scala",
   "version": "0.4.1"
  }
 },
 "nbformat": 4,
 "nbformat_minor": 5
}

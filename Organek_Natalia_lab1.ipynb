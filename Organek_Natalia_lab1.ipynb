{
 "cells": [
  {
   "cell_type": "code",
   "execution_count": null,
   "metadata": {
    "id": "aN6b0Yk2Yz5Z"
   },
   "outputs": [],
   "source": [
    "from pyspark.sql import SparkSession\n",
    "spark = SparkSession.builder.getOrCreate()"
   ]
  },
  {
   "cell_type": "code",
   "execution_count": null,
   "metadata": {
    "id": "M9rrjXoUY8aa"
   },
   "outputs": [],
   "source": [
    "sc = spark.sparkContext"
   ]
  },
  {
   "cell_type": "code",
   "execution_count": null,
   "metadata": {
    "id": "_-WWQtKVaTKh"
   },
   "outputs": [],
   "source": [
    "import os\n",
    "os.environ[\"JAVA_HOME\"] = \"/usr/lib/jvm/java-8-openjdk-amd64\"\n",
    "os.environ[\"SPARK_HOME\"] = \"/content/spark-3.1.2-bin-hadoop3.2\""
   ]
  },
  {
   "cell_type": "code",
   "execution_count": null,
   "metadata": {
    "id": "7rm6DHBoa7zf"
   },
   "outputs": [],
   "source": [
    "import findspark\n",
    "findspark.init()\n",
    "from pyspark.sql import SparkSession\n",
    "\n",
    "spark = SparkSession.builder.master(\"local[*]\").getOrCreate()"
   ]
  },
  {
   "cell_type": "markdown",
   "metadata": {
    "id": "9fMl1_4VbDaO"
   },
   "source": [
    "# LAB1"
   ]
  },
  {
   "cell_type": "code",
   "execution_count": null,
   "metadata": {
    "id": "I2SLr7AzbGJ9"
   },
   "outputs": [],
   "source": [
    "import urllib.request"
   ]
  },
  {
   "cell_type": "code",
   "execution_count": null,
   "metadata": {
    "colab": {
     "base_uri": "https://localhost:8080/"
    },
    "id": "qGYUzrJfbLyr",
    "outputId": "a3ea0ef1-6ce9-4e76-8aed-0e5a0886220b"
   },
   "outputs": [
    {
     "data": {
      "text/plain": [
       "('apache_logs', <http.client.HTTPMessage at 0x7f08dadd6710>)"
      ]
     },
     "execution_count": 6,
     "metadata": {},
     "output_type": "execute_result"
    }
   ],
   "source": [
    "urllib.request.urlretrieve(\"http://raw.githubusercontent.com/elastic/examples/master/Common%20Data%20Formats/apache_logs/apache_logs\",\"apache_logs\")"
   ]
  },
  {
   "cell_type": "code",
   "execution_count": null,
   "metadata": {
    "id": "Dzz0Vc9-bN1M"
   },
   "outputs": [],
   "source": [
    "lines = sc.textFile(\"apache_logs\")"
   ]
  },
  {
   "cell_type": "markdown",
   "metadata": {
    "id": "NWPyNjI-eoQ8"
   },
   "source": [
    "## Zad 1\n",
    "Narysować wykres rankingu najpopularniejszych stron źródłowych (referer), z wyłączeniem domeny semicomplete.com"
   ]
  },
  {
   "cell_type": "code",
   "execution_count": null,
   "metadata": {
    "id": "DGxCPDJ_COJr"
   },
   "outputs": [],
   "source": [
    "import re"
   ]
  },
  {
   "cell_type": "code",
   "execution_count": null,
   "metadata": {
    "id": "7lz9GnHgesr1"
   },
   "outputs": [],
   "source": [
    "regex_web = r'https?://(:?www.|)(.*?)(/|\\\")|\\\"-\\\"'"
   ]
  },
  {
   "cell_type": "code",
   "execution_count": null,
   "metadata": {
    "id": "p_Tb2gXqgqOk"
   },
   "outputs": [],
   "source": [
    "lines = sc.textFile(\"apache_logs\")"
   ]
  },
  {
   "cell_type": "code",
   "execution_count": null,
   "metadata": {
    "id": "yOi0hRhxgDde"
   },
   "outputs": [],
   "source": [
    "domains = lines.map(lambda s: (re.search(regex_web, s).group(2), 1))\n",
    "domains = domains.filter(lambda s: s[0])\n",
    "domains = domains.filter(lambda s: 'semicomplete.com' not in s[0])"
   ]
  },
  {
   "cell_type": "code",
   "execution_count": null,
   "metadata": {
    "id": "lsoeKI-vgaT4"
   },
   "outputs": [],
   "source": [
    "domainsCount = domains.reduceByKey(lambda a, b: a + b)"
   ]
  },
  {
   "cell_type": "code",
   "execution_count": null,
   "metadata": {
    "id": "ZfSqil0dghb1"
   },
   "outputs": [],
   "source": [
    "topdomains = domainsCount.takeOrdered(10, lambda pair: -pair[1])"
   ]
  },
  {
   "cell_type": "code",
   "execution_count": null,
   "metadata": {
    "colab": {
     "base_uri": "https://localhost:8080/"
    },
    "id": "X2srOEgiN3RN",
    "outputId": "62e0f74f-ce6c-4039-8197-ea4949341993"
   },
   "outputs": [
    {
     "data": {
      "text/plain": [
       "[('google.com', 228),\n",
       " ('s-chassis.co.nz', 51),\n",
       " ('google.fr', 46),\n",
       " ('google.co.uk', 37),\n",
       " ('stackoverflow.com', 34),\n",
       " ('google.de', 31),\n",
       " ('logstash.net', 31),\n",
       " ('google.es', 29),\n",
       " ('google.co.in', 25),\n",
       " ('tuxradar.com', 12)]"
      ]
     },
     "execution_count": 93,
     "metadata": {},
     "output_type": "execute_result"
    }
   ],
   "source": [
    "topdomains"
   ]
  },
  {
   "cell_type": "code",
   "execution_count": null,
   "metadata": {
    "id": "4cq6FiYUn-Qr"
   },
   "outputs": [],
   "source": [
    "import pandas as pd\n",
    "import matplotlib.pyplot as plt"
   ]
  },
  {
   "cell_type": "code",
   "execution_count": null,
   "metadata": {
    "colab": {
     "base_uri": "https://localhost:8080/",
     "height": 359
    },
    "id": "41hs7nLFNcY8",
    "outputId": "54076b1a-dac1-445c-d383-8bf8afb3ece1"
   },
   "outputs": [
    {
     "data": {
      "text/html": [
       "<div>\n",
       "<style scoped>\n",
       "    .dataframe tbody tr th:only-of-type {\n",
       "        vertical-align: middle;\n",
       "    }\n",
       "\n",
       "    .dataframe tbody tr th {\n",
       "        vertical-align: top;\n",
       "    }\n",
       "\n",
       "    .dataframe thead th {\n",
       "        text-align: right;\n",
       "    }\n",
       "</style>\n",
       "<table border=\"1\" class=\"dataframe\">\n",
       "  <thead>\n",
       "    <tr style=\"text-align: right;\">\n",
       "      <th></th>\n",
       "      <th>Domain</th>\n",
       "      <th>Count</th>\n",
       "    </tr>\n",
       "  </thead>\n",
       "  <tbody>\n",
       "    <tr>\n",
       "      <th>0</th>\n",
       "      <td>google.com</td>\n",
       "      <td>228</td>\n",
       "    </tr>\n",
       "    <tr>\n",
       "      <th>1</th>\n",
       "      <td>s-chassis.co.nz</td>\n",
       "      <td>51</td>\n",
       "    </tr>\n",
       "    <tr>\n",
       "      <th>2</th>\n",
       "      <td>google.fr</td>\n",
       "      <td>46</td>\n",
       "    </tr>\n",
       "    <tr>\n",
       "      <th>3</th>\n",
       "      <td>google.co.uk</td>\n",
       "      <td>37</td>\n",
       "    </tr>\n",
       "    <tr>\n",
       "      <th>4</th>\n",
       "      <td>stackoverflow.com</td>\n",
       "      <td>34</td>\n",
       "    </tr>\n",
       "    <tr>\n",
       "      <th>5</th>\n",
       "      <td>google.de</td>\n",
       "      <td>31</td>\n",
       "    </tr>\n",
       "    <tr>\n",
       "      <th>6</th>\n",
       "      <td>logstash.net</td>\n",
       "      <td>31</td>\n",
       "    </tr>\n",
       "    <tr>\n",
       "      <th>7</th>\n",
       "      <td>google.es</td>\n",
       "      <td>29</td>\n",
       "    </tr>\n",
       "    <tr>\n",
       "      <th>8</th>\n",
       "      <td>google.co.in</td>\n",
       "      <td>25</td>\n",
       "    </tr>\n",
       "    <tr>\n",
       "      <th>9</th>\n",
       "      <td>tuxradar.com</td>\n",
       "      <td>12</td>\n",
       "    </tr>\n",
       "  </tbody>\n",
       "</table>\n",
       "</div>"
      ],
      "text/plain": [
       "              Domain  Count\n",
       "0         google.com    228\n",
       "1    s-chassis.co.nz     51\n",
       "2          google.fr     46\n",
       "3       google.co.uk     37\n",
       "4  stackoverflow.com     34\n",
       "5          google.de     31\n",
       "6       logstash.net     31\n",
       "7          google.es     29\n",
       "8       google.co.in     25\n",
       "9       tuxradar.com     12"
      ]
     },
     "execution_count": 95,
     "metadata": {},
     "output_type": "execute_result"
    }
   ],
   "source": [
    "df = pd.DataFrame(topdomains, columns=['Domain', 'Count'])\n",
    "df"
   ]
  },
  {
   "cell_type": "code",
   "execution_count": null,
   "metadata": {
    "colab": {
     "base_uri": "https://localhost:8080/",
     "height": 282
    },
    "id": "jfHa7yhUNrGc",
    "outputId": "dde3fa89-d660-4e30-b9ed-db4670ee895d"
   },
   "outputs": [
    {
     "data": {
      "text/plain": [
       "<matplotlib.axes._subplots.AxesSubplot at 0x7f08c7a85d10>"
      ]
     },
     "execution_count": 96,
     "metadata": {},
     "output_type": "execute_result"
    },
    {
     "data": {
      "image/png": "[encoded data removed]",
      "text/plain": [
       "<Figure size 432x288 with 1 Axes>"
      ]
     },
     "metadata": {
      "needs_background": "light"
     },
     "output_type": "display_data"
    }
   ],
   "source": [
    "df.plot.barh(x = 'Domain')"
   ]
  },
  {
   "cell_type": "markdown",
   "metadata": {
    "id": "hSvJZ4PTO1qg"
   },
   "source": [
    "I omitted \"-\" domain as it carries only information that users made requests to domain not known by us, but it is worth to mention that those are most of requests"
   ]
  },
  {
   "cell_type": "markdown",
   "metadata": {
    "id": "k3Rj4W81N7Sq"
   },
   "source": [
    "## Zad 2\n",
    "Narysować wykres słupkowy liczby wywołań (request) na godzinę w zależności od czasu, pogrupowane po kodzie odpowiedzi (200, 404, etc)"
   ]
  },
  {
   "cell_type": "markdown",
   "metadata": {
    "id": "qpU9m022O1Hx"
   },
   "source": []
  },
  {
   "cell_type": "code",
   "execution_count": null,
   "metadata": {
    "id": "6-zJetZ-N8rd"
   },
   "outputs": [],
   "source": [
    "time_regex = r'\\[\\d+/\\w+/\\d+:(\\d+):'\n",
    "code_regex = r'(GET|POST|HEAD|OPTIONS).*?\\\" (\\d+)'"
   ]
  },
  {
   "cell_type": "code",
   "execution_count": null,
   "metadata": {
    "id": "KkLKhEjZQfmc"
   },
   "outputs": [],
   "source": [
    "data = lines.map(lambda s: ((re.search(time_regex, s).group(1), re.search(code_regex, s).group(2)), 1))"
   ]
  },
  {
   "cell_type": "code",
   "execution_count": null,
   "metadata": {
    "id": "y0w6eytEU_0O"
   },
   "outputs": [],
   "source": [
    "data.collect()"
   ]
  },
  {
   "cell_type": "code",
   "execution_count": null,
   "metadata": {
    "id": "2igDPjwZXdk3"
   },
   "outputs": [],
   "source": [
    "data_reduced = data.reduceByKey(lambda a, b: a + b) \\\n",
    "  .map(lambda a: [a[0][0], a[0][1], a[1]] )"
   ]
  },
  {
   "cell_type": "code",
   "execution_count": null,
   "metadata": {
    "colab": {
     "base_uri": "https://localhost:8080/"
    },
    "id": "dRY24p8_Rpco",
    "outputId": "a745a93f-56ba-4d6e-b721-d35d0ef7db71"
   },
   "outputs": [
    {
     "data": {
      "text/plain": [
       "[['00', '200', 333],\n",
       " ['00', '301', 12],\n",
       " ['00', '304', 10],\n",
       " ['00', '404', 6],\n",
       " ['01', '200', 313],\n",
       " ['01', '206', 4],\n",
       " ['01', '304', 33],\n",
       " ['01', '404', 10],\n",
       " ['02', '200', 347],\n",
       " ['02', '301', 2]]"
      ]
     },
     "execution_count": 101,
     "metadata": {},
     "output_type": "execute_result"
    }
   ],
   "source": [
    "data_reduced.takeOrdered(10)"
   ]
  },
  {
   "cell_type": "code",
   "execution_count": null,
   "metadata": {
    "id": "w7KnMdaVdGHh"
   },
   "outputs": [],
   "source": [
    "preped_data = data_reduced.collect()"
   ]
  },
  {
   "cell_type": "code",
   "execution_count": null,
   "metadata": {
    "id": "IloIAHdwY3km"
   },
   "outputs": [],
   "source": [
    "import seaborn as sns"
   ]
  },
  {
   "cell_type": "code",
   "execution_count": null,
   "metadata": {
    "id": "d2pNzJGIbgju"
   },
   "outputs": [],
   "source": [
    "df = pd.DataFrame(\n",
    "    data=preped_data,\n",
    "    columns=[\"hour\", \"code\", \"count\"]\n",
    ")"
   ]
  },
  {
   "cell_type": "code",
   "execution_count": null,
   "metadata": {
    "colab": {
     "base_uri": "https://localhost:8080/",
     "height": 623
    },
    "id": "KuruNE_tc-jA",
    "outputId": "3c9f9946-9bda-4f3f-f237-a82ccaf8a118"
   },
   "outputs": [
    {
     "data": {
      "text/plain": [
       "<matplotlib.axes._subplots.AxesSubplot at 0x7f08c303e650>"
      ]
     },
     "execution_count": 105,
     "metadata": {},
     "output_type": "execute_result"
    },
    {
     "data": {
      "image/png": "[encoded data removed]",
      "text/plain": [
       "<Figure size 720x720 with 1 Axes>"
      ]
     },
     "metadata": {
      "needs_background": "light"
     },
     "output_type": "display_data"
    }
   ],
   "source": [
    "plt.figure(figsize=[10, 10])\n",
    "sns.barplot(data=df, x=\"hour\", y=\"count\", hue=\"code\")"
   ]
  },
  {
   "cell_type": "code",
   "execution_count": null,
   "metadata": {
    "id": "wxQgPpjidMYx"
   },
   "outputs": [],
   "source": []
  },
  {
   "cell_type": "markdown",
   "metadata": {
    "id": "Xjec7jFweuRM"
   },
   "source": [
    "## Zad 3\n",
    "Narysować wykres rankingu pobieranych zasobów według typów plików (html, css, png, etc.)"
   ]
  },
  {
   "cell_type": "code",
   "execution_count": null,
   "metadata": {
    "id": "5aC5m2Ejevbf"
   },
   "outputs": [],
   "source": [
    "file_regex = r'GET \\S+\\.(\\w+) '"
   ]
  },
  {
   "cell_type": "code",
   "execution_count": null,
   "metadata": {
    "id": "LH6Vp0TGg2d8"
   },
   "outputs": [],
   "source": [
    "def get_file_types(s):\n",
    "  file_type = re.search(file_regex, s)\n",
    "  return file_type.group(1) if file_type else 'other'"
   ]
  },
  {
   "cell_type": "code",
   "execution_count": null,
   "metadata": {
    "id": "C_QFF-rggUxI"
   },
   "outputs": [],
   "source": [
    "files_types = lines.map(lambda s: (get_file_types(s), 1)) \\\n",
    "  .filter(lambda s: s[0] != 'other') \\\n",
    "  .reduceByKey(lambda a, b: a + b) \\\n",
    "  .sortBy(lambda s: -s[1]) \\\n",
    "  .collect()"
   ]
  },
  {
   "cell_type": "code",
   "execution_count": null,
   "metadata": {
    "id": "si2o4cA2grsA"
   },
   "outputs": [],
   "source": [
    "df = pd.DataFrame(files_types, columns=['File type', 'Count'])"
   ]
  },
  {
   "cell_type": "code",
   "execution_count": null,
   "metadata": {
    "colab": {
     "base_uri": "https://localhost:8080/",
     "height": 604
    },
    "id": "ZRAcwlqGgt7-",
    "outputId": "dac6ae85-b172-4876-fd52-0629f98bd2ec"
   },
   "outputs": [
    {
     "data": {
      "image/png": "[encoded data removed]",
      "text/plain": [
       "<Figure size 720x720 with 1 Axes>"
      ]
     },
     "metadata": {
      "needs_background": "light"
     },
     "output_type": "display_data"
    }
   ],
   "source": [
    "plt.figure(figsize=[10, 10])\n",
    "plt.barh(df['File type'], df['Count'])\n",
    "plt.title(\"Resource type counts\")\n",
    "plt.show()"
   ]
  },
  {
   "cell_type": "markdown",
   "metadata": {
    "id": "crBYBLDLm-8-"
   },
   "source": [
    "## Zad 4\n",
    "Narysować mapę z lokalizacjami klientów"
   ]
  },
  {
   "cell_type": "code",
   "execution_count": null,
   "metadata": {
    "id": "ji-a6lntncfE"
   },
   "outputs": [],
   "source": [
    "# !pip3 install ipinfo\n",
    "# !pip3 install cartopy"
   ]
  },
  {
   "cell_type": "code",
   "execution_count": null,
   "metadata": {
    "id": "PN_osmxynlBR"
   },
   "outputs": [],
   "source": [
    "import ipinfo\n",
    "import cartopy\n",
    "import re"
   ]
  },
  {
   "cell_type": "code",
   "execution_count": null,
   "metadata": {
    "id": "wNv4nXm2oqeT"
   },
   "outputs": [],
   "source": [
    "handler = ipinfo.getHandler(ipinfo_token)"
   ]
  },
  {
   "cell_type": "code",
   "execution_count": null,
   "metadata": {
    "id": "Z1MVwOeXjlqP"
   },
   "outputs": [],
   "source": [
    "ip_regex = '([(\\d\\.)]+)'"
   ]
  },
  {
   "cell_type": "code",
   "execution_count": null,
   "metadata": {
    "id": "neSYZoZhnNV7"
   },
   "outputs": [],
   "source": [
    "ips = lines.map(lambda s: re.match(ip_regex, s).group(0)) \\\n",
    "  .distinct() \\\n",
    "  .collect()"
   ]
  },
  {
   "cell_type": "code",
   "execution_count": null,
   "metadata": {
    "id": "fqxdUaHAnVFF"
   },
   "outputs": [],
   "source": [
    "infos = handler.getBatchDetails(ips)"
   ]
  },
  {
   "cell_type": "code",
   "execution_count": null,
   "metadata": {
    "id": "M0gEvO2EnX7h"
   },
   "outputs": [],
   "source": [
    "parsed_ips = [(ip, infos[ip]['latitude'], infos[ip]['longitude']) for ip in infos]"
   ]
  },
  {
   "cell_type": "code",
   "execution_count": null,
   "metadata": {
    "id": "bvHGOY9brkrM"
   },
   "outputs": [],
   "source": [
    "lattitudes = [float(data[1]) for data in parsed_ips]\n",
    "longitudes = [float(data[2]) for data in parsed_ips]"
   ]
  },
  {
   "cell_type": "code",
   "execution_count": null,
   "metadata": {
    "colab": {
     "base_uri": "https://localhost:8080/",
     "height": 198
    },
    "id": "e-ERgnkqpA0h",
    "outputId": "caaffd6f-c86f-42cf-a7ad-1370858c7835"
   },
   "outputs": [
    {
     "data": {
      "image/png": "[encoded data removed]",
      "text/plain": [
       "<Figure size 432x288 with 1 Axes>"
      ]
     },
     "metadata": {
      "needs_background": "light"
     },
     "output_type": "display_data"
    }
   ],
   "source": [
    "import cartopy.crs as ccrs\n",
    "import matplotlib.pyplot as plt\n",
    "\n",
    "ax = plt.axes(projection=ccrs.PlateCarree())\n",
    "ax.stock_img()\n",
    "\n",
    "plt.scatter(longitudes, lattitudes, s=1)\n",
    "plt.show()"
   ]
  },
  {
   "cell_type": "markdown",
   "metadata": {
    "id": "CCxfYlSYw3MM"
   },
   "source": [
    "## Zad 5\n",
    "Oszacować jaki procent ruchu generują boty"
   ]
  },
  {
   "cell_type": "markdown",
   "metadata": {
    "id": "CVZb4TDI5cdy"
   },
   "source": [
    "This was based on https://www.sumologic.com/insight/apache-logs-identifying-robots/"
   ]
  },
  {
   "cell_type": "code",
   "execution_count": null,
   "metadata": {
    "id": "Ehpqro5VzoSS"
   },
   "outputs": [],
   "source": [
    "all_actions = lines.count()"
   ]
  },
  {
   "cell_type": "code",
   "execution_count": null,
   "metadata": {
    "id": "tmt9frzsxFsI"
   },
   "outputs": [],
   "source": [
    "good_bots = {\"Googlebot\", \"AskJeeves\", \"Digger\", \"Lycos\", \"msnbot\",\n",
    "    \"Inktomi Slurp\", \"Yahoo\", \"Nutch\", \"bingbot\", \"BingPreview\",\n",
    "    \"Mediapartners-Google\", \"proximic\", \"AhrefsBot\", \"AdsBot-Google\",\n",
    "    \"Ezooms\", \"AddThis.com\", \"facebookexternalhit\", \"MetaURI\",\n",
    "    \"Feedfetcher-Google\", \"PaperLiBot\", \"TweetmemeBot\", \"Sogou web spider\",\n",
    "    \"GoogleProducer\", \"RockmeltEmbedder\", \"ShareThisFetcher\", \"YandexBot\",\n",
    "    \"rogerbot-crawler\", \"ShowyouBot\", \"Baiduspider\", \"Sosospider\", \"Exabot\"\n",
    "}"
   ]
  },
  {
   "cell_type": "code",
   "execution_count": null,
   "metadata": {
    "id": "4w1IZ3lHy3-T"
   },
   "outputs": [],
   "source": [
    "good_bots_lines = lines.filter(lambda s: any(bot in s for bot in good_bots)) \\\n",
    "  .count()"
   ]
  },
  {
   "cell_type": "code",
   "execution_count": null,
   "metadata": {
    "id": "PVybpfbr4veB"
   },
   "outputs": [],
   "source": [
    "good_bot_actions = 100 * (good_bots_lines / all_actions)"
   ]
  },
  {
   "cell_type": "code",
   "execution_count": null,
   "metadata": {
    "id": "c5aCfRps06yv"
   },
   "outputs": [],
   "source": [
    "minute_regex = r'\\[(\\d+/\\w+/\\d+:\\d+:\\d+)'"
   ]
  },
  {
   "cell_type": "markdown",
   "metadata": {
    "id": "AxSDyKWt2WU1"
   },
   "source": [
    "This takes requests per minute. I take more than 20 site interactions/minute as a bot actions"
   ]
  },
  {
   "cell_type": "code",
   "execution_count": null,
   "metadata": {
    "id": "Xy0vgok8zeGx"
   },
   "outputs": [],
   "source": [
    "bot_actions = lines.map(lambda s: ((re.match(ip_regex, s).group(0), re.search(minute_regex, s).group(1)), 1)) \\\n",
    "  .reduceByKey(lambda a, b: a + b) \\\n",
    "  .sortBy(lambda s: -s[1]) \\\n",
    "  .filter(lambda s: s[1] > 20) \\\n",
    "  .map(lambda s: s[1]) \\\n",
    "  .reduce(lambda a, b: a + b)"
   ]
  },
  {
   "cell_type": "code",
   "execution_count": null,
   "metadata": {
    "id": "komCMAU_4nxu"
   },
   "outputs": [],
   "source": [
    "bot_perc = 100 * (bot_actions / all_actions)"
   ]
  },
  {
   "cell_type": "code",
   "execution_count": null,
   "metadata": {
    "colab": {
     "base_uri": "https://localhost:8080/"
    },
    "id": "ceRV0dXN1SOl",
    "outputId": "4378c3c7-a380-4da5-9206-3a32dcca6514"
   },
   "outputs": [
    {
     "name": "stdout",
     "output_type": "stream",
     "text": [
      "Estimated bot actions: 21.31%\n"
     ]
    }
   ],
   "source": [
    "print(f'Estimated bot actions: {bot_perc:.2f}%')"
   ]
  },
  {
   "cell_type": "code",
   "execution_count": null,
   "metadata": {
    "colab": {
     "base_uri": "https://localhost:8080/"
    },
    "id": "gKjIcUIK4_jT",
    "outputId": "438571fc-296c-4ac4-8f36-2db5c33d47b3"
   },
   "outputs": [
    {
     "name": "stdout",
     "output_type": "stream",
     "text": [
      "Estimated good bot actions: 13.47%\n"
     ]
    }
   ],
   "source": [
    "print(f'Estimated good bot actions: {good_bot_actions:.2f}%')"
   ]
  }
 ],
 "metadata": {
  "colab": {
   "collapsed_sections": [],
   "name": "Lab1.ipynb",
   "provenance": []
  },
  "kernelspec": {
   "display_name": "Python 3",
   "language": "python",
   "name": "python3"
  },
  "language_info": {
   "codemirror_mode": {
    "name": "ipython",
    "version": 3
   },
   "file_extension": ".py",
   "mimetype": "text/x-python",
   "name": "python",
   "nbconvert_exporter": "python",
   "pygments_lexer": "ipython3",
   "version": "3.8.13"
  }
 },
 "nbformat": 4,
 "nbformat_minor": 1
}

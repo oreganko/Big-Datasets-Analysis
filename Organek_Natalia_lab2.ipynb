{
 "cells": [
  {
   "cell_type": "code",
   "execution_count": 531,
   "metadata": {
    "id": "WLByf54mbfBN"
   },
   "outputs": [],
   "source": [
    "from pyspark.sql import SparkSession\n",
    "from pyspark.sql.types import FloatType, StringType\n",
    "from pyspark.sql.functions import udf, col, asc,desc, sum"
   ]
  },
  {
   "cell_type": "code",
   "execution_count": 2,
   "metadata": {
    "colab": {
     "base_uri": "https://localhost:8080/",
     "height": 0
    },
    "id": "zXR-rsRgdO4E",
    "outputId": "3782c9fe-f8fc-4db3-f659-fcee514086d0"
   },
   "outputs": [
    {
     "name": "stdout",
     "output_type": "stream",
     "text": [
      "Collecting pyspark\n",
      "  Downloading pyspark-3.2.0.tar.gz (281.3 MB)\n",
      "\u001b[K     |████████████████████████████████| 281.3 MB 35 kB/s \n",
      "\u001b[?25hCollecting py4j==0.10.9.2\n",
      "  Downloading py4j-0.10.9.2-py2.py3-none-any.whl (198 kB)\n",
      "\u001b[K     |████████████████████████████████| 198 kB 4.6 MB/s \n",
      "\u001b[?25hBuilding wheels for collected packages: pyspark\n",
      "  Building wheel for pyspark (setup.py) ... \u001b[?25l\u001b[?25hdone\n",
      "  Created wheel for pyspark: filename=pyspark-3.2.0-py2.py3-none-any.whl size=281805912 sha256=0ce9e51fad07aa8e6c59f0c40b710e0d1c1bb5152201ed22f95b8a6cc2bcfd40\n",
      "  Stored in directory: /root/.cache/pip/wheels/0b/de/d2/9be5d59d7331c6c2a7c1b6d1a4f463ce107332b1ecd4e80718\n",
      "Successfully built pyspark\n",
      "Installing collected packages: py4j, pyspark\n",
      "Successfully installed py4j-0.10.9.2 pyspark-3.2.0\n"
     ]
    }
   ],
   "source": [
    "!pip3 install pyspark"
   ]
  },
  {
   "cell_type": "code",
   "execution_count": 4,
   "metadata": {
    "id": "bkTWPSKodOEF"
   },
   "outputs": [],
   "source": [
    "import pandas as pd\n",
    "import numpy as np"
   ]
  },
  {
   "cell_type": "code",
   "execution_count": 5,
   "metadata": {
    "id": "ggJRVfC1dkLc"
   },
   "outputs": [],
   "source": [
    "spark = SparkSession.builder.getOrCreate()"
   ]
  },
  {
   "cell_type": "code",
   "execution_count": 6,
   "metadata": {
    "colab": {
     "base_uri": "https://localhost:8080/",
     "height": 216
    },
    "id": "9nDT1FbRduxA",
    "outputId": "eaf3ee02-4ffd-435d-b33f-fcaba8c769ae"
   },
   "outputs": [
    {
     "data": {
      "text/html": [
       "\n",
       "            <div>\n",
       "                <p><b>SparkSession - in-memory</b></p>\n",
       "                \n",
       "        <div>\n",
       "            <p><b>SparkContext</b></p>\n",
       "\n",
       "            <p><a href=\"http://44b9e85ec72e:4040\">Spark UI</a></p>\n",
       "\n",
       "            <dl>\n",
       "              <dt>Version</dt>\n",
       "                <dd><code>v3.2.0</code></dd>\n",
       "              <dt>Master</dt>\n",
       "                <dd><code>local[*]</code></dd>\n",
       "              <dt>AppName</dt>\n",
       "                <dd><code>pyspark-shell</code></dd>\n",
       "            </dl>\n",
       "        </div>\n",
       "        \n",
       "            </div>\n",
       "        "
      ],
      "text/plain": [
       "<pyspark.sql.session.SparkSession at 0x7f4142f771d0>"
      ]
     },
     "execution_count": 6,
     "metadata": {},
     "output_type": "execute_result"
    }
   ],
   "source": [
    "spark"
   ]
  },
  {
   "cell_type": "markdown",
   "metadata": {
    "id": "i8H-rp6ClDog"
   },
   "source": [
    "# Task 1\n",
    "Narysuj wykres zależności kolumn Plot Infant mortality vs. Literacy dla 30 najbogatszych i 30 najbiedniejszych krajów\n"
   ]
  },
  {
   "cell_type": "code",
   "execution_count": 25,
   "metadata": {
    "id": "Jw4l4_Jvdxgs"
   },
   "outputs": [],
   "source": [
    "countries_path= '/content/drive/MyDrive/ADZD/countries of the world.csv'  "
   ]
  },
  {
   "cell_type": "code",
   "execution_count": 26,
   "metadata": {
    "id": "WeqofyUPlSk1"
   },
   "outputs": [],
   "source": [
    "def to_float(s):\n",
    "  return float(s.replace(',', '.'))"
   ]
  },
  {
   "cell_type": "code",
   "execution_count": 27,
   "metadata": {
    "id": "zlzHPzQslYnz"
   },
   "outputs": [],
   "source": [
    "float_udf = udf(to_float, FloatType())"
   ]
  },
  {
   "cell_type": "code",
   "execution_count": 28,
   "metadata": {
    "id": "TUkx8k5kr73t"
   },
   "outputs": [],
   "source": [
    "def to_percent(s):\n",
    "  return float(s.replace(',', '.'))/10"
   ]
  },
  {
   "cell_type": "code",
   "execution_count": 29,
   "metadata": {
    "id": "29gV3YU5sDmS"
   },
   "outputs": [],
   "source": [
    "percent_udf = udf(to_percent, FloatType())"
   ]
  },
  {
   "cell_type": "code",
   "execution_count": 30,
   "metadata": {
    "colab": {
     "base_uri": "https://localhost:8080/",
     "height": 0
    },
    "id": "FPOGbljFgFMq",
    "outputId": "4afd496f-b199-4697-cbf2-e88aa2b554b7"
   },
   "outputs": [
    {
     "name": "stdout",
     "output_type": "stream",
     "text": [
      "+------------------+--------------------+----------+--------------+--------------------------+----------------------------+-------------+----------------------------------+------------------+------------+-----------------+----------+---------+---------+-------+---------+---------+-----------+--------+-------+\n",
      "|           Country|              Region|Population|Area (sq. mi.)|Pop. Density (per sq. mi.)|Coastline (coast/area ratio)|Net migration|Infant mortality (per 1000 births)|GDP ($ per capita)|Literacy (%)|Phones (per 1000)|Arable (%)|Crops (%)|Other (%)|Climate|Birthrate|Deathrate|Agriculture|Industry|Service|\n",
      "+------------------+--------------------+----------+--------------+--------------------------+----------------------------+-------------+----------------------------------+------------------+------------+-----------------+----------+---------+---------+-------+---------+---------+-----------+--------+-------+\n",
      "|      Afghanistan |ASIA (EX. NEAR EA...|  31056997|        647500|                      48,0|                        0,00|        23,06|                            163,07|               700|        36,0|              3,2|     12,13|     0,22|    87,65|      1|     46,6|    20,34|       0,38|    0,24|   0,38|\n",
      "|          Albania |EASTERN EUROPE   ...|   3581655|         28748|                     124,6|                        1,26|        -4,93|                             21,52|              4500|        86,5|             71,2|     21,09|     4,42|    74,49|      3|    15,11|     5,22|      0,232|   0,188|  0,579|\n",
      "|          Algeria |NORTHERN AFRICA  ...|  32930091|       2381740|                      13,8|                        0,04|        -0,39|                                31|              6000|        70,0|             78,1|      3,22|     0,25|    96,53|      1|    17,14|     4,61|      0,101|     0,6|  0,298|\n",
      "|   American Samoa |OCEANIA          ...|     57794|           199|                     290,4|                       58,29|       -20,71|                              9,27|              8000|        97,0|            259,5|        10|       15|       75|      2|    22,46|     3,27|       null|    null|   null|\n",
      "|          Andorra |WESTERN EUROPE   ...|     71201|           468|                     152,1|                        0,00|          6,6|                              4,05|             19000|       100,0|            497,2|      2,22|        0|    97,78|      3|     8,71|     6,25|       null|    null|   null|\n",
      "|           Angola |SUB-SAHARAN AFRIC...|  12127071|       1246700|                       9,7|                        0,13|            0|                            191,19|              1900|        42,0|              7,8|      2,41|     0,24|    97,35|   null|    45,11|     24,2|      0,096|   0,658|  0,246|\n",
      "|         Anguilla |LATIN AMER. & CAR...|     13477|           102|                     132,1|                       59,80|        10,76|                             21,03|              8600|        95,0|            460,0|         0|        0|      100|      2|    14,17|     5,34|       0,04|    0,18|   0,78|\n",
      "|Antigua & Barbuda |LATIN AMER. & CAR...|     69108|           443|                     156,0|                       34,54|        -6,15|                             19,46|             11000|        89,0|            549,9|     18,18|     4,55|    77,27|      2|    16,93|     5,37|      0,038|    0,22|  0,743|\n",
      "|        Argentina |LATIN AMER. & CAR...|  39921833|       2766890|                      14,4|                        0,18|         0,61|                             15,18|             11200|        97,1|            220,4|     12,31|     0,48|    87,21|      3|    16,73|     7,55|      0,095|   0,358|  0,547|\n",
      "|          Armenia |C.W. OF IND. STATES |   2976372|         29800|                      99,9|                        0,00|        -6,47|                             23,28|              3500|        98,6|            195,7|     17,55|      2,3|    80,15|      4|    12,07|     8,23|      0,239|   0,343|  0,418|\n",
      "|            Aruba |LATIN AMER. & CAR...|     71891|           193|                     372,5|                       35,49|            0|                              5,89|             28000|        97,0|            516,1|     10,53|        0|    89,47|      2|    11,03|     6,68|      0,004|   0,333|  0,663|\n",
      "|        Australia |OCEANIA          ...|  20264082|       7686850|                       2,6|                        0,34|         3,98|                              4,69|             29000|       100,0|            565,5|      6,55|     0,04|    93,41|      1|    12,14|     7,51|      0,038|   0,262|    0,7|\n",
      "|          Austria |WESTERN EUROPE   ...|   8192880|         83870|                      97,7|                        0,00|            2|                              4,66|             30000|        98,0|            452,2|     16,91|     0,86|    82,23|      3|     8,74|     9,76|      0,018|   0,304|  0,678|\n",
      "|       Azerbaijan |C.W. OF IND. STATES |   7961619|         86600|                      91,9|                        0,00|         -4,9|                             81,74|              3400|        97,0|            137,1|     19,63|     2,71|    77,66|      1|    20,74|     9,75|      0,141|   0,457|  0,402|\n",
      "|     Bahamas, The |LATIN AMER. & CAR...|    303770|         13940|                      21,8|                       25,41|         -2,2|                             25,21|             16700|        95,6|            460,6|       0,8|      0,4|     98,8|      2|    17,57|     9,05|       0,03|    0,07|    0,9|\n",
      "|          Bahrain |NEAR EAST        ...|    698585|           665|                    1050,5|                       24,21|         1,05|                             17,27|             16900|        89,1|            281,3|      2,82|     5,63|    91,55|      1|     17,8|     4,14|      0,005|   0,387|  0,608|\n",
      "|       Bangladesh |ASIA (EX. NEAR EA...| 147365352|        144000|                    1023,4|                        0,40|        -0,71|                              62,6|              1900|        43,1|              7,3|     62,11|     3,07|    34,82|      2|     29,8|     8,27|      0,199|   0,198|  0,603|\n",
      "|         Barbados |LATIN AMER. & CAR...|    279912|           431|                     649,5|                       22,51|        -0,31|                              12,5|             15700|        97,4|            481,9|     37,21|     2,33|    60,46|      2|    12,71|     8,67|       0,06|    0,16|   0,78|\n",
      "|          Belarus |C.W. OF IND. STATES |  10293011|        207600|                      49,6|                        0,00|         2,54|                             13,37|              6100|        99,6|            319,1|     29,55|      0,6|    69,85|      4|    11,16|    14,02|      0,093|   0,316|  0,591|\n",
      "|          Belgium |WESTERN EUROPE   ...|  10379067|         30528|                     340,0|                        0,22|         1,23|                              4,68|             29100|        98,0|            462,6|     23,28|      0,4|    76,32|      3|    10,38|    10,27|       0,01|    0,24|  0,749|\n",
      "+------------------+--------------------+----------+--------------+--------------------------+----------------------------+-------------+----------------------------------+------------------+------------+-----------------+----------+---------+---------+-------+---------+---------+-----------+--------+-------+\n",
      "only showing top 20 rows\n",
      "\n",
      "None\n"
     ]
    }
   ],
   "source": [
    "countries = spark.read.csv(countries_path,header=True, inferSchema=True)\n",
    "\n",
    "print(countries.show())"
   ]
  },
  {
   "cell_type": "code",
   "execution_count": 92,
   "metadata": {
    "id": "GUNU7pHWgMy_"
   },
   "outputs": [],
   "source": [
    "full_countries = countries.select('Country', 'Literacy (%)', 'Infant mortality (per 1000 births)', 'GDP ($ per capita)').na.drop()\n",
    "full_countries = full_countries.withColumn(\"Literacy\", float_udf(\"Literacy (%)\"))\n",
    "full_countries = full_countries.withColumn(\"Infant mortality (%)\", percent_udf(\"Infant mortality (per 1000 births)\"))\n",
    "# richest.sort(\"GDP ($ per capita)\").show()"
   ]
  },
  {
   "cell_type": "code",
   "execution_count": 34,
   "metadata": {
    "id": "VfA7aAyzmYtw"
   },
   "outputs": [],
   "source": [
    "full_countries_s = full_countries.sort('GDP ($ per capita)')"
   ]
  },
  {
   "cell_type": "code",
   "execution_count": 35,
   "metadata": {
    "id": "vukIbke6m33G"
   },
   "outputs": [],
   "source": [
    "countries_df = full_countries_s.toPandas()"
   ]
  },
  {
   "cell_type": "code",
   "execution_count": 36,
   "metadata": {
    "colab": {
     "base_uri": "https://localhost:8080/",
     "height": 419
    },
    "id": "c2vLrvLsnu4q",
    "outputId": "ea7bd65a-1f33-4c73-9975-ca1fb1eb3fed"
   },
   "outputs": [
    {
     "data": {
      "text/html": [
       "<div>\n",
       "<style scoped>\n",
       "    .dataframe tbody tr th:only-of-type {\n",
       "        vertical-align: middle;\n",
       "    }\n",
       "\n",
       "    .dataframe tbody tr th {\n",
       "        vertical-align: top;\n",
       "    }\n",
       "\n",
       "    .dataframe thead th {\n",
       "        text-align: right;\n",
       "    }\n",
       "</style>\n",
       "<table border=\"1\" class=\"dataframe\">\n",
       "  <thead>\n",
       "    <tr style=\"text-align: right;\">\n",
       "      <th></th>\n",
       "      <th>Country</th>\n",
       "      <th>Literacy (%)</th>\n",
       "      <th>Infant mortality (per 1000 births)</th>\n",
       "      <th>GDP ($ per capita)</th>\n",
       "      <th>Literacy</th>\n",
       "      <th>Infant mortality (%)</th>\n",
       "    </tr>\n",
       "  </thead>\n",
       "  <tbody>\n",
       "    <tr>\n",
       "      <th>0</th>\n",
       "      <td>East Timor</td>\n",
       "      <td>58,6</td>\n",
       "      <td>47,41</td>\n",
       "      <td>500</td>\n",
       "      <td>58.599998</td>\n",
       "      <td>4.741</td>\n",
       "    </tr>\n",
       "    <tr>\n",
       "      <th>1</th>\n",
       "      <td>Sierra Leone</td>\n",
       "      <td>31,4</td>\n",
       "      <td>143,64</td>\n",
       "      <td>500</td>\n",
       "      <td>31.400000</td>\n",
       "      <td>14.364</td>\n",
       "    </tr>\n",
       "    <tr>\n",
       "      <th>2</th>\n",
       "      <td>Somalia</td>\n",
       "      <td>37,8</td>\n",
       "      <td>116,7</td>\n",
       "      <td>500</td>\n",
       "      <td>37.799999</td>\n",
       "      <td>11.670</td>\n",
       "    </tr>\n",
       "    <tr>\n",
       "      <th>3</th>\n",
       "      <td>Burundi</td>\n",
       "      <td>51,6</td>\n",
       "      <td>69,29</td>\n",
       "      <td>600</td>\n",
       "      <td>51.599998</td>\n",
       "      <td>6.929</td>\n",
       "    </tr>\n",
       "    <tr>\n",
       "      <th>4</th>\n",
       "      <td>Malawi</td>\n",
       "      <td>62,7</td>\n",
       "      <td>103,32</td>\n",
       "      <td>600</td>\n",
       "      <td>62.700001</td>\n",
       "      <td>10.332</td>\n",
       "    </tr>\n",
       "    <tr>\n",
       "      <th>...</th>\n",
       "      <td>...</td>\n",
       "      <td>...</td>\n",
       "      <td>...</td>\n",
       "      <td>...</td>\n",
       "      <td>...</td>\n",
       "      <td>...</td>\n",
       "    </tr>\n",
       "    <tr>\n",
       "      <th>202</th>\n",
       "      <td>Cayman Islands</td>\n",
       "      <td>98,0</td>\n",
       "      <td>8,19</td>\n",
       "      <td>35000</td>\n",
       "      <td>98.000000</td>\n",
       "      <td>0.819</td>\n",
       "    </tr>\n",
       "    <tr>\n",
       "      <th>203</th>\n",
       "      <td>Bermuda</td>\n",
       "      <td>98,0</td>\n",
       "      <td>8,53</td>\n",
       "      <td>36000</td>\n",
       "      <td>98.000000</td>\n",
       "      <td>0.853</td>\n",
       "    </tr>\n",
       "    <tr>\n",
       "      <th>204</th>\n",
       "      <td>Norway</td>\n",
       "      <td>100,0</td>\n",
       "      <td>3,7</td>\n",
       "      <td>37800</td>\n",
       "      <td>100.000000</td>\n",
       "      <td>0.370</td>\n",
       "    </tr>\n",
       "    <tr>\n",
       "      <th>205</th>\n",
       "      <td>United States</td>\n",
       "      <td>97,0</td>\n",
       "      <td>6,5</td>\n",
       "      <td>37800</td>\n",
       "      <td>97.000000</td>\n",
       "      <td>0.650</td>\n",
       "    </tr>\n",
       "    <tr>\n",
       "      <th>206</th>\n",
       "      <td>Luxembourg</td>\n",
       "      <td>100,0</td>\n",
       "      <td>4,81</td>\n",
       "      <td>55100</td>\n",
       "      <td>100.000000</td>\n",
       "      <td>0.481</td>\n",
       "    </tr>\n",
       "  </tbody>\n",
       "</table>\n",
       "<p>207 rows × 6 columns</p>\n",
       "</div>"
      ],
      "text/plain": [
       "             Country Literacy (%)  ...    Literacy  Infant mortality (%)\n",
       "0        East Timor          58,6  ...   58.599998                 4.741\n",
       "1      Sierra Leone          31,4  ...   31.400000                14.364\n",
       "2           Somalia          37,8  ...   37.799999                11.670\n",
       "3           Burundi          51,6  ...   51.599998                 6.929\n",
       "4            Malawi          62,7  ...   62.700001                10.332\n",
       "..               ...          ...  ...         ...                   ...\n",
       "202  Cayman Islands          98,0  ...   98.000000                 0.819\n",
       "203         Bermuda          98,0  ...   98.000000                 0.853\n",
       "204          Norway         100,0  ...  100.000000                 0.370\n",
       "205   United States          97,0  ...   97.000000                 0.650\n",
       "206      Luxembourg         100,0  ...  100.000000                 0.481\n",
       "\n",
       "[207 rows x 6 columns]"
      ]
     },
     "execution_count": 36,
     "metadata": {},
     "output_type": "execute_result"
    }
   ],
   "source": [
    "countries_df"
   ]
  },
  {
   "cell_type": "code",
   "execution_count": 37,
   "metadata": {
    "id": "o4ubBAQZnwEz"
   },
   "outputs": [],
   "source": [
    "poorest = countries_df.head(30)"
   ]
  },
  {
   "cell_type": "code",
   "execution_count": 38,
   "metadata": {
    "colab": {
     "base_uri": "https://localhost:8080/",
     "height": 979
    },
    "id": "1tvK_j65ojas",
    "outputId": "e5013a62-f0ac-439a-8bc2-bf0c92e56304"
   },
   "outputs": [
    {
     "data": {
      "text/html": [
       "<div>\n",
       "<style scoped>\n",
       "    .dataframe tbody tr th:only-of-type {\n",
       "        vertical-align: middle;\n",
       "    }\n",
       "\n",
       "    .dataframe tbody tr th {\n",
       "        vertical-align: top;\n",
       "    }\n",
       "\n",
       "    .dataframe thead th {\n",
       "        text-align: right;\n",
       "    }\n",
       "</style>\n",
       "<table border=\"1\" class=\"dataframe\">\n",
       "  <thead>\n",
       "    <tr style=\"text-align: right;\">\n",
       "      <th></th>\n",
       "      <th>Country</th>\n",
       "      <th>Literacy (%)</th>\n",
       "      <th>Infant mortality (per 1000 births)</th>\n",
       "      <th>GDP ($ per capita)</th>\n",
       "      <th>Literacy</th>\n",
       "      <th>Infant mortality (%)</th>\n",
       "    </tr>\n",
       "  </thead>\n",
       "  <tbody>\n",
       "    <tr>\n",
       "      <th>0</th>\n",
       "      <td>East Timor</td>\n",
       "      <td>58,6</td>\n",
       "      <td>47,41</td>\n",
       "      <td>500</td>\n",
       "      <td>58.599998</td>\n",
       "      <td>4.741000</td>\n",
       "    </tr>\n",
       "    <tr>\n",
       "      <th>1</th>\n",
       "      <td>Sierra Leone</td>\n",
       "      <td>31,4</td>\n",
       "      <td>143,64</td>\n",
       "      <td>500</td>\n",
       "      <td>31.400000</td>\n",
       "      <td>14.364000</td>\n",
       "    </tr>\n",
       "    <tr>\n",
       "      <th>2</th>\n",
       "      <td>Somalia</td>\n",
       "      <td>37,8</td>\n",
       "      <td>116,7</td>\n",
       "      <td>500</td>\n",
       "      <td>37.799999</td>\n",
       "      <td>11.670000</td>\n",
       "    </tr>\n",
       "    <tr>\n",
       "      <th>3</th>\n",
       "      <td>Burundi</td>\n",
       "      <td>51,6</td>\n",
       "      <td>69,29</td>\n",
       "      <td>600</td>\n",
       "      <td>51.599998</td>\n",
       "      <td>6.929000</td>\n",
       "    </tr>\n",
       "    <tr>\n",
       "      <th>4</th>\n",
       "      <td>Malawi</td>\n",
       "      <td>62,7</td>\n",
       "      <td>103,32</td>\n",
       "      <td>600</td>\n",
       "      <td>62.700001</td>\n",
       "      <td>10.332000</td>\n",
       "    </tr>\n",
       "    <tr>\n",
       "      <th>5</th>\n",
       "      <td>Tanzania</td>\n",
       "      <td>78,2</td>\n",
       "      <td>98,54</td>\n",
       "      <td>600</td>\n",
       "      <td>78.199997</td>\n",
       "      <td>9.854000</td>\n",
       "    </tr>\n",
       "    <tr>\n",
       "      <th>6</th>\n",
       "      <td>Afghanistan</td>\n",
       "      <td>36,0</td>\n",
       "      <td>163,07</td>\n",
       "      <td>700</td>\n",
       "      <td>36.000000</td>\n",
       "      <td>16.306999</td>\n",
       "    </tr>\n",
       "    <tr>\n",
       "      <th>7</th>\n",
       "      <td>Comoros</td>\n",
       "      <td>56,5</td>\n",
       "      <td>74,93</td>\n",
       "      <td>700</td>\n",
       "      <td>56.500000</td>\n",
       "      <td>7.493000</td>\n",
       "    </tr>\n",
       "    <tr>\n",
       "      <th>8</th>\n",
       "      <td>Congo, Dem. Rep.</td>\n",
       "      <td>65,5</td>\n",
       "      <td>94,69</td>\n",
       "      <td>700</td>\n",
       "      <td>65.500000</td>\n",
       "      <td>9.469000</td>\n",
       "    </tr>\n",
       "    <tr>\n",
       "      <th>9</th>\n",
       "      <td>Congo, Repub. of the</td>\n",
       "      <td>83,8</td>\n",
       "      <td>93,86</td>\n",
       "      <td>700</td>\n",
       "      <td>83.800003</td>\n",
       "      <td>9.386000</td>\n",
       "    </tr>\n",
       "    <tr>\n",
       "      <th>10</th>\n",
       "      <td>Eritrea</td>\n",
       "      <td>58,6</td>\n",
       "      <td>74,87</td>\n",
       "      <td>700</td>\n",
       "      <td>58.599998</td>\n",
       "      <td>7.487000</td>\n",
       "    </tr>\n",
       "    <tr>\n",
       "      <th>11</th>\n",
       "      <td>Ethiopia</td>\n",
       "      <td>42,7</td>\n",
       "      <td>95,32</td>\n",
       "      <td>700</td>\n",
       "      <td>42.700001</td>\n",
       "      <td>9.532000</td>\n",
       "    </tr>\n",
       "    <tr>\n",
       "      <th>12</th>\n",
       "      <td>Guinea-Bissau</td>\n",
       "      <td>42,4</td>\n",
       "      <td>107,17</td>\n",
       "      <td>800</td>\n",
       "      <td>42.400002</td>\n",
       "      <td>10.717000</td>\n",
       "    </tr>\n",
       "    <tr>\n",
       "      <th>13</th>\n",
       "      <td>Madagascar</td>\n",
       "      <td>68,9</td>\n",
       "      <td>76,83</td>\n",
       "      <td>800</td>\n",
       "      <td>68.900002</td>\n",
       "      <td>7.683000</td>\n",
       "    </tr>\n",
       "    <tr>\n",
       "      <th>14</th>\n",
       "      <td>Niger</td>\n",
       "      <td>17,6</td>\n",
       "      <td>121,69</td>\n",
       "      <td>800</td>\n",
       "      <td>17.600000</td>\n",
       "      <td>12.169000</td>\n",
       "    </tr>\n",
       "    <tr>\n",
       "      <th>15</th>\n",
       "      <td>Yemen</td>\n",
       "      <td>50,2</td>\n",
       "      <td>61,5</td>\n",
       "      <td>800</td>\n",
       "      <td>50.200001</td>\n",
       "      <td>6.150000</td>\n",
       "    </tr>\n",
       "    <tr>\n",
       "      <th>16</th>\n",
       "      <td>Zambia</td>\n",
       "      <td>80,6</td>\n",
       "      <td>88,29</td>\n",
       "      <td>800</td>\n",
       "      <td>80.599998</td>\n",
       "      <td>8.829000</td>\n",
       "    </tr>\n",
       "    <tr>\n",
       "      <th>17</th>\n",
       "      <td>Mali</td>\n",
       "      <td>46,4</td>\n",
       "      <td>116,79</td>\n",
       "      <td>900</td>\n",
       "      <td>46.400002</td>\n",
       "      <td>11.679000</td>\n",
       "    </tr>\n",
       "    <tr>\n",
       "      <th>18</th>\n",
       "      <td>Nigeria</td>\n",
       "      <td>68,0</td>\n",
       "      <td>98,8</td>\n",
       "      <td>900</td>\n",
       "      <td>68.000000</td>\n",
       "      <td>9.880000</td>\n",
       "    </tr>\n",
       "    <tr>\n",
       "      <th>19</th>\n",
       "      <td>Kenya</td>\n",
       "      <td>85,1</td>\n",
       "      <td>61,47</td>\n",
       "      <td>1000</td>\n",
       "      <td>85.099998</td>\n",
       "      <td>6.147000</td>\n",
       "    </tr>\n",
       "    <tr>\n",
       "      <th>20</th>\n",
       "      <td>Liberia</td>\n",
       "      <td>57,5</td>\n",
       "      <td>128,87</td>\n",
       "      <td>1000</td>\n",
       "      <td>57.500000</td>\n",
       "      <td>12.887000</td>\n",
       "    </tr>\n",
       "    <tr>\n",
       "      <th>21</th>\n",
       "      <td>Tajikistan</td>\n",
       "      <td>99,4</td>\n",
       "      <td>110,76</td>\n",
       "      <td>1000</td>\n",
       "      <td>99.400002</td>\n",
       "      <td>11.076000</td>\n",
       "    </tr>\n",
       "    <tr>\n",
       "      <th>22</th>\n",
       "      <td>Benin</td>\n",
       "      <td>40,9</td>\n",
       "      <td>85</td>\n",
       "      <td>1100</td>\n",
       "      <td>40.900002</td>\n",
       "      <td>8.500000</td>\n",
       "    </tr>\n",
       "    <tr>\n",
       "      <th>23</th>\n",
       "      <td>Burkina Faso</td>\n",
       "      <td>26,6</td>\n",
       "      <td>97,57</td>\n",
       "      <td>1100</td>\n",
       "      <td>26.600000</td>\n",
       "      <td>9.757000</td>\n",
       "    </tr>\n",
       "    <tr>\n",
       "      <th>24</th>\n",
       "      <td>Central African Rep.</td>\n",
       "      <td>51,0</td>\n",
       "      <td>91</td>\n",
       "      <td>1100</td>\n",
       "      <td>51.000000</td>\n",
       "      <td>9.100000</td>\n",
       "    </tr>\n",
       "    <tr>\n",
       "      <th>25</th>\n",
       "      <td>Chad</td>\n",
       "      <td>47,5</td>\n",
       "      <td>93,82</td>\n",
       "      <td>1200</td>\n",
       "      <td>47.500000</td>\n",
       "      <td>9.382000</td>\n",
       "    </tr>\n",
       "    <tr>\n",
       "      <th>26</th>\n",
       "      <td>Mozambique</td>\n",
       "      <td>47,8</td>\n",
       "      <td>130,79</td>\n",
       "      <td>1200</td>\n",
       "      <td>47.799999</td>\n",
       "      <td>13.079000</td>\n",
       "    </tr>\n",
       "    <tr>\n",
       "      <th>27</th>\n",
       "      <td>Sao Tome &amp; Principe</td>\n",
       "      <td>79,3</td>\n",
       "      <td>43,11</td>\n",
       "      <td>1200</td>\n",
       "      <td>79.300003</td>\n",
       "      <td>4.311000</td>\n",
       "    </tr>\n",
       "    <tr>\n",
       "      <th>28</th>\n",
       "      <td>Bhutan</td>\n",
       "      <td>42,2</td>\n",
       "      <td>100,44</td>\n",
       "      <td>1300</td>\n",
       "      <td>42.200001</td>\n",
       "      <td>10.044000</td>\n",
       "    </tr>\n",
       "    <tr>\n",
       "      <th>29</th>\n",
       "      <td>Djibouti</td>\n",
       "      <td>67,9</td>\n",
       "      <td>104,13</td>\n",
       "      <td>1300</td>\n",
       "      <td>67.900002</td>\n",
       "      <td>10.413000</td>\n",
       "    </tr>\n",
       "  </tbody>\n",
       "</table>\n",
       "</div>"
      ],
      "text/plain": [
       "                  Country Literacy (%)  ...   Literacy  Infant mortality (%)\n",
       "0             East Timor          58,6  ...  58.599998              4.741000\n",
       "1           Sierra Leone          31,4  ...  31.400000             14.364000\n",
       "2                Somalia          37,8  ...  37.799999             11.670000\n",
       "3                Burundi          51,6  ...  51.599998              6.929000\n",
       "4                 Malawi          62,7  ...  62.700001             10.332000\n",
       "5               Tanzania          78,2  ...  78.199997              9.854000\n",
       "6            Afghanistan          36,0  ...  36.000000             16.306999\n",
       "7                Comoros          56,5  ...  56.500000              7.493000\n",
       "8       Congo, Dem. Rep.          65,5  ...  65.500000              9.469000\n",
       "9   Congo, Repub. of the          83,8  ...  83.800003              9.386000\n",
       "10               Eritrea          58,6  ...  58.599998              7.487000\n",
       "11              Ethiopia          42,7  ...  42.700001              9.532000\n",
       "12         Guinea-Bissau          42,4  ...  42.400002             10.717000\n",
       "13            Madagascar          68,9  ...  68.900002              7.683000\n",
       "14                 Niger          17,6  ...  17.600000             12.169000\n",
       "15                 Yemen          50,2  ...  50.200001              6.150000\n",
       "16                Zambia          80,6  ...  80.599998              8.829000\n",
       "17                  Mali          46,4  ...  46.400002             11.679000\n",
       "18               Nigeria          68,0  ...  68.000000              9.880000\n",
       "19                 Kenya          85,1  ...  85.099998              6.147000\n",
       "20               Liberia          57,5  ...  57.500000             12.887000\n",
       "21            Tajikistan          99,4  ...  99.400002             11.076000\n",
       "22                 Benin          40,9  ...  40.900002              8.500000\n",
       "23          Burkina Faso          26,6  ...  26.600000              9.757000\n",
       "24  Central African Rep.          51,0  ...  51.000000              9.100000\n",
       "25                  Chad          47,5  ...  47.500000              9.382000\n",
       "26            Mozambique          47,8  ...  47.799999             13.079000\n",
       "27   Sao Tome & Principe          79,3  ...  79.300003              4.311000\n",
       "28                Bhutan          42,2  ...  42.200001             10.044000\n",
       "29              Djibouti          67,9  ...  67.900002             10.413000\n",
       "\n",
       "[30 rows x 6 columns]"
      ]
     },
     "execution_count": 38,
     "metadata": {},
     "output_type": "execute_result"
    }
   ],
   "source": [
    "poorest"
   ]
  },
  {
   "cell_type": "code",
   "execution_count": 39,
   "metadata": {
    "colab": {
     "base_uri": "https://localhost:8080/",
     "height": 410
    },
    "id": "8kt2uaNCoycb",
    "outputId": "29376fd8-05dc-4fce-bf8a-8824e5ad06eb"
   },
   "outputs": [
    {
     "data": {
      "text/plain": [
       "<matplotlib.axes._subplots.AxesSubplot at 0x7f4141df2510>"
      ]
     },
     "execution_count": 39,
     "metadata": {},
     "output_type": "execute_result"
    },
    {
     "data": {
      "image/png": "[encoded data removed]",
      "text/plain": [
       "<Figure size 432x288 with 1 Axes>"
      ]
     },
     "metadata": {
      "needs_background": "light"
     },
     "output_type": "display_data"
    }
   ],
   "source": [
    "poorest.plot(x='Country', y=['Literacy','Infant mortality (%)'], kind='bar', title='Poorest')"
   ]
  },
  {
   "cell_type": "code",
   "execution_count": 65,
   "metadata": {
    "id": "-x_q7lLzrZCQ"
   },
   "outputs": [],
   "source": [
    "full_countries_sr = full_countries.sort(col('GDP ($ per capita)').desc())\n",
    "richest_countries_df = full_countries_sr.toPandas().head(30)"
   ]
  },
  {
   "cell_type": "code",
   "execution_count": 66,
   "metadata": {
    "colab": {
     "base_uri": "https://localhost:8080/",
     "height": 979
    },
    "id": "QPIcwI-xaZMI",
    "outputId": "3dca3054-24b1-4531-ea9d-e0498cdb1222"
   },
   "outputs": [
    {
     "data": {
      "text/html": [
       "<div>\n",
       "<style scoped>\n",
       "    .dataframe tbody tr th:only-of-type {\n",
       "        vertical-align: middle;\n",
       "    }\n",
       "\n",
       "    .dataframe tbody tr th {\n",
       "        vertical-align: top;\n",
       "    }\n",
       "\n",
       "    .dataframe thead th {\n",
       "        text-align: right;\n",
       "    }\n",
       "</style>\n",
       "<table border=\"1\" class=\"dataframe\">\n",
       "  <thead>\n",
       "    <tr style=\"text-align: right;\">\n",
       "      <th></th>\n",
       "      <th>Country</th>\n",
       "      <th>Literacy (%)</th>\n",
       "      <th>Infant mortality (per 1000 births)</th>\n",
       "      <th>GDP ($ per capita)</th>\n",
       "      <th>Literacy</th>\n",
       "      <th>Infant mortality (%)</th>\n",
       "    </tr>\n",
       "  </thead>\n",
       "  <tbody>\n",
       "    <tr>\n",
       "      <th>0</th>\n",
       "      <td>Luxembourg</td>\n",
       "      <td>100,0</td>\n",
       "      <td>4,81</td>\n",
       "      <td>55100</td>\n",
       "      <td>100.000000</td>\n",
       "      <td>0.481</td>\n",
       "    </tr>\n",
       "    <tr>\n",
       "      <th>1</th>\n",
       "      <td>Norway</td>\n",
       "      <td>100,0</td>\n",
       "      <td>3,7</td>\n",
       "      <td>37800</td>\n",
       "      <td>100.000000</td>\n",
       "      <td>0.370</td>\n",
       "    </tr>\n",
       "    <tr>\n",
       "      <th>2</th>\n",
       "      <td>United States</td>\n",
       "      <td>97,0</td>\n",
       "      <td>6,5</td>\n",
       "      <td>37800</td>\n",
       "      <td>97.000000</td>\n",
       "      <td>0.650</td>\n",
       "    </tr>\n",
       "    <tr>\n",
       "      <th>3</th>\n",
       "      <td>Bermuda</td>\n",
       "      <td>98,0</td>\n",
       "      <td>8,53</td>\n",
       "      <td>36000</td>\n",
       "      <td>98.000000</td>\n",
       "      <td>0.853</td>\n",
       "    </tr>\n",
       "    <tr>\n",
       "      <th>4</th>\n",
       "      <td>Cayman Islands</td>\n",
       "      <td>98,0</td>\n",
       "      <td>8,19</td>\n",
       "      <td>35000</td>\n",
       "      <td>98.000000</td>\n",
       "      <td>0.819</td>\n",
       "    </tr>\n",
       "    <tr>\n",
       "      <th>5</th>\n",
       "      <td>San Marino</td>\n",
       "      <td>96,0</td>\n",
       "      <td>5,73</td>\n",
       "      <td>34600</td>\n",
       "      <td>96.000000</td>\n",
       "      <td>0.573</td>\n",
       "    </tr>\n",
       "    <tr>\n",
       "      <th>6</th>\n",
       "      <td>Switzerland</td>\n",
       "      <td>99,0</td>\n",
       "      <td>4,39</td>\n",
       "      <td>32700</td>\n",
       "      <td>99.000000</td>\n",
       "      <td>0.439</td>\n",
       "    </tr>\n",
       "    <tr>\n",
       "      <th>7</th>\n",
       "      <td>Denmark</td>\n",
       "      <td>100,0</td>\n",
       "      <td>4,56</td>\n",
       "      <td>31100</td>\n",
       "      <td>100.000000</td>\n",
       "      <td>0.456</td>\n",
       "    </tr>\n",
       "    <tr>\n",
       "      <th>8</th>\n",
       "      <td>Iceland</td>\n",
       "      <td>99,9</td>\n",
       "      <td>3,31</td>\n",
       "      <td>30900</td>\n",
       "      <td>99.900002</td>\n",
       "      <td>0.331</td>\n",
       "    </tr>\n",
       "    <tr>\n",
       "      <th>9</th>\n",
       "      <td>Austria</td>\n",
       "      <td>98,0</td>\n",
       "      <td>4,66</td>\n",
       "      <td>30000</td>\n",
       "      <td>98.000000</td>\n",
       "      <td>0.466</td>\n",
       "    </tr>\n",
       "    <tr>\n",
       "      <th>10</th>\n",
       "      <td>Canada</td>\n",
       "      <td>97,0</td>\n",
       "      <td>4,75</td>\n",
       "      <td>29800</td>\n",
       "      <td>97.000000</td>\n",
       "      <td>0.475</td>\n",
       "    </tr>\n",
       "    <tr>\n",
       "      <th>11</th>\n",
       "      <td>Ireland</td>\n",
       "      <td>98,0</td>\n",
       "      <td>5,39</td>\n",
       "      <td>29600</td>\n",
       "      <td>98.000000</td>\n",
       "      <td>0.539</td>\n",
       "    </tr>\n",
       "    <tr>\n",
       "      <th>12</th>\n",
       "      <td>Belgium</td>\n",
       "      <td>98,0</td>\n",
       "      <td>4,68</td>\n",
       "      <td>29100</td>\n",
       "      <td>98.000000</td>\n",
       "      <td>0.468</td>\n",
       "    </tr>\n",
       "    <tr>\n",
       "      <th>13</th>\n",
       "      <td>Australia</td>\n",
       "      <td>100,0</td>\n",
       "      <td>4,69</td>\n",
       "      <td>29000</td>\n",
       "      <td>100.000000</td>\n",
       "      <td>0.469</td>\n",
       "    </tr>\n",
       "    <tr>\n",
       "      <th>14</th>\n",
       "      <td>Hong Kong</td>\n",
       "      <td>93,5</td>\n",
       "      <td>2,97</td>\n",
       "      <td>28800</td>\n",
       "      <td>93.500000</td>\n",
       "      <td>0.297</td>\n",
       "    </tr>\n",
       "    <tr>\n",
       "      <th>15</th>\n",
       "      <td>Netherlands</td>\n",
       "      <td>99,0</td>\n",
       "      <td>5,04</td>\n",
       "      <td>28600</td>\n",
       "      <td>99.000000</td>\n",
       "      <td>0.504</td>\n",
       "    </tr>\n",
       "    <tr>\n",
       "      <th>16</th>\n",
       "      <td>Japan</td>\n",
       "      <td>99,0</td>\n",
       "      <td>3,26</td>\n",
       "      <td>28200</td>\n",
       "      <td>99.000000</td>\n",
       "      <td>0.326</td>\n",
       "    </tr>\n",
       "    <tr>\n",
       "      <th>17</th>\n",
       "      <td>Aruba</td>\n",
       "      <td>97,0</td>\n",
       "      <td>5,89</td>\n",
       "      <td>28000</td>\n",
       "      <td>97.000000</td>\n",
       "      <td>0.589</td>\n",
       "    </tr>\n",
       "    <tr>\n",
       "      <th>18</th>\n",
       "      <td>United Kingdom</td>\n",
       "      <td>99,0</td>\n",
       "      <td>5,16</td>\n",
       "      <td>27700</td>\n",
       "      <td>99.000000</td>\n",
       "      <td>0.516</td>\n",
       "    </tr>\n",
       "    <tr>\n",
       "      <th>19</th>\n",
       "      <td>France</td>\n",
       "      <td>99,0</td>\n",
       "      <td>4,26</td>\n",
       "      <td>27600</td>\n",
       "      <td>99.000000</td>\n",
       "      <td>0.426</td>\n",
       "    </tr>\n",
       "    <tr>\n",
       "      <th>20</th>\n",
       "      <td>Germany</td>\n",
       "      <td>99,0</td>\n",
       "      <td>4,16</td>\n",
       "      <td>27600</td>\n",
       "      <td>99.000000</td>\n",
       "      <td>0.416</td>\n",
       "    </tr>\n",
       "    <tr>\n",
       "      <th>21</th>\n",
       "      <td>Finland</td>\n",
       "      <td>100,0</td>\n",
       "      <td>3,57</td>\n",
       "      <td>27400</td>\n",
       "      <td>100.000000</td>\n",
       "      <td>0.357</td>\n",
       "    </tr>\n",
       "    <tr>\n",
       "      <th>22</th>\n",
       "      <td>Monaco</td>\n",
       "      <td>99,0</td>\n",
       "      <td>5,43</td>\n",
       "      <td>27000</td>\n",
       "      <td>99.000000</td>\n",
       "      <td>0.543</td>\n",
       "    </tr>\n",
       "    <tr>\n",
       "      <th>23</th>\n",
       "      <td>Sweden</td>\n",
       "      <td>99,0</td>\n",
       "      <td>2,77</td>\n",
       "      <td>26800</td>\n",
       "      <td>99.000000</td>\n",
       "      <td>0.277</td>\n",
       "    </tr>\n",
       "    <tr>\n",
       "      <th>24</th>\n",
       "      <td>Italy</td>\n",
       "      <td>98,6</td>\n",
       "      <td>5,94</td>\n",
       "      <td>26700</td>\n",
       "      <td>98.599998</td>\n",
       "      <td>0.594</td>\n",
       "    </tr>\n",
       "    <tr>\n",
       "      <th>25</th>\n",
       "      <td>Liechtenstein</td>\n",
       "      <td>100,0</td>\n",
       "      <td>4,7</td>\n",
       "      <td>25000</td>\n",
       "      <td>100.000000</td>\n",
       "      <td>0.470</td>\n",
       "    </tr>\n",
       "    <tr>\n",
       "      <th>26</th>\n",
       "      <td>Singapore</td>\n",
       "      <td>92,5</td>\n",
       "      <td>2,29</td>\n",
       "      <td>23700</td>\n",
       "      <td>92.500000</td>\n",
       "      <td>0.229</td>\n",
       "    </tr>\n",
       "    <tr>\n",
       "      <th>27</th>\n",
       "      <td>Taiwan</td>\n",
       "      <td>96,1</td>\n",
       "      <td>6,4</td>\n",
       "      <td>23400</td>\n",
       "      <td>96.099998</td>\n",
       "      <td>0.640</td>\n",
       "    </tr>\n",
       "    <tr>\n",
       "      <th>28</th>\n",
       "      <td>United Arab Emirates</td>\n",
       "      <td>77,9</td>\n",
       "      <td>14,51</td>\n",
       "      <td>23200</td>\n",
       "      <td>77.900002</td>\n",
       "      <td>1.451</td>\n",
       "    </tr>\n",
       "    <tr>\n",
       "      <th>29</th>\n",
       "      <td>Spain</td>\n",
       "      <td>97,9</td>\n",
       "      <td>4,42</td>\n",
       "      <td>22000</td>\n",
       "      <td>97.900002</td>\n",
       "      <td>0.442</td>\n",
       "    </tr>\n",
       "  </tbody>\n",
       "</table>\n",
       "</div>"
      ],
      "text/plain": [
       "                  Country Literacy (%)  ...    Literacy  Infant mortality (%)\n",
       "0             Luxembourg         100,0  ...  100.000000                 0.481\n",
       "1                 Norway         100,0  ...  100.000000                 0.370\n",
       "2          United States          97,0  ...   97.000000                 0.650\n",
       "3                Bermuda          98,0  ...   98.000000                 0.853\n",
       "4         Cayman Islands          98,0  ...   98.000000                 0.819\n",
       "5             San Marino          96,0  ...   96.000000                 0.573\n",
       "6            Switzerland          99,0  ...   99.000000                 0.439\n",
       "7                Denmark         100,0  ...  100.000000                 0.456\n",
       "8                Iceland          99,9  ...   99.900002                 0.331\n",
       "9                Austria          98,0  ...   98.000000                 0.466\n",
       "10                Canada          97,0  ...   97.000000                 0.475\n",
       "11               Ireland          98,0  ...   98.000000                 0.539\n",
       "12               Belgium          98,0  ...   98.000000                 0.468\n",
       "13             Australia         100,0  ...  100.000000                 0.469\n",
       "14             Hong Kong          93,5  ...   93.500000                 0.297\n",
       "15           Netherlands          99,0  ...   99.000000                 0.504\n",
       "16                 Japan          99,0  ...   99.000000                 0.326\n",
       "17                 Aruba          97,0  ...   97.000000                 0.589\n",
       "18        United Kingdom          99,0  ...   99.000000                 0.516\n",
       "19                France          99,0  ...   99.000000                 0.426\n",
       "20               Germany          99,0  ...   99.000000                 0.416\n",
       "21               Finland         100,0  ...  100.000000                 0.357\n",
       "22                Monaco          99,0  ...   99.000000                 0.543\n",
       "23                Sweden          99,0  ...   99.000000                 0.277\n",
       "24                 Italy          98,6  ...   98.599998                 0.594\n",
       "25         Liechtenstein         100,0  ...  100.000000                 0.470\n",
       "26             Singapore          92,5  ...   92.500000                 0.229\n",
       "27                Taiwan          96,1  ...   96.099998                 0.640\n",
       "28  United Arab Emirates          77,9  ...   77.900002                 1.451\n",
       "29                 Spain          97,9  ...   97.900002                 0.442\n",
       "\n",
       "[30 rows x 6 columns]"
      ]
     },
     "execution_count": 66,
     "metadata": {},
     "output_type": "execute_result"
    }
   ],
   "source": [
    "richest_countries_df"
   ]
  },
  {
   "cell_type": "code",
   "execution_count": 67,
   "metadata": {
    "colab": {
     "base_uri": "https://localhost:8080/",
     "height": 412
    },
    "id": "KV0-SG8qpuKQ",
    "outputId": "c5152fde-160a-4c67-f1e7-407e92d3c15b"
   },
   "outputs": [
    {
     "data": {
      "text/plain": [
       "<matplotlib.axes._subplots.AxesSubplot at 0x7f41414a36d0>"
      ]
     },
     "execution_count": 67,
     "metadata": {},
     "output_type": "execute_result"
    },
    {
     "data": {
      "image/png": "[encoded data removed]",
      "text/plain": [
       "<Figure size 432x288 with 1 Axes>"
      ]
     },
     "metadata": {
      "needs_background": "light"
     },
     "output_type": "display_data"
    }
   ],
   "source": [
    "richest_countries_df.plot(x='Country', y=['Literacy','Infant mortality (%)'], kind='bar', title='Poorest')"
   ]
  },
  {
   "cell_type": "code",
   "execution_count": 70,
   "metadata": {
    "id": "AB-LKA__rTTI"
   },
   "outputs": [],
   "source": [
    "many = poorest.append(richest_countries_df, ignore_index=True)"
   ]
  },
  {
   "cell_type": "code",
   "execution_count": 78,
   "metadata": {
    "colab": {
     "base_uri": "https://localhost:8080/",
     "height": 467
    },
    "id": "7yEYpH4ucw0S",
    "outputId": "30ec5104-b3f3-4c66-8991-84cf30a4189d"
   },
   "outputs": [
    {
     "data": {
      "text/plain": [
       "<matplotlib.axes._subplots.AxesSubplot at 0x7f41403030d0>"
      ]
     },
     "execution_count": 78,
     "metadata": {},
     "output_type": "execute_result"
    },
    {
     "data": {
      "image/png": "[encoded data removed]",
      "text/plain": [
       "<Figure size 720x360 with 1 Axes>"
      ]
     },
     "metadata": {
      "needs_background": "light"
     },
     "output_type": "display_data"
    }
   ],
   "source": [
    "many.plot(x='Country', y=['Literacy','Infant mortality (%)'], kind='bar', title='Poorest and Richest', figsize=(10,5))"
   ]
  },
  {
   "cell_type": "code",
   "execution_count": null,
   "metadata": {
    "id": "MTxdWxwacxZC"
   },
   "outputs": [],
   "source": []
  },
  {
   "cell_type": "markdown",
   "metadata": {
    "id": "B6GazTRgd7I1"
   },
   "source": [
    "# Task 2\n",
    "Wczytaj zbiór danych \"airports.csv\" ze strony https://www.kaggle.com/jonatancr/airports (zawiera on dane na temat lotnisk z całego świata). Ponieważ w zbiorze tym nie ma nagłówka, nadaj własne nazwy kolumnom, korzystając z opisu pliku na stronie https://openflights.org/data.html. Narysuj na wykresie (mapie) położenia wszystkich/wybranych lotnisk.\n",
    "\n"
   ]
  },
  {
   "cell_type": "code",
   "execution_count": 79,
   "metadata": {
    "id": "y7d2aipDd8Qc"
   },
   "outputs": [],
   "source": [
    "airports_path= '/content/drive/MyDrive/ADZD/airports.csv'  "
   ]
  },
  {
   "cell_type": "code",
   "execution_count": 164,
   "metadata": {
    "colab": {
     "base_uri": "https://localhost:8080/"
    },
    "id": "SPeKNQXteE2O",
    "outputId": "9fc6eec5-6e29-496b-dbf5-07418ac0cc33"
   },
   "outputs": [
    {
     "name": "stdout",
     "output_type": "stream",
     "text": [
      "+---------+--------------------+--------------+----------------+----+----+------------------+-------------------+--------+--------+---+--------------------+-------+-----------+\n",
      "|AirportID|                name|          city|         Country|IATA|ICAO|          latitude|          longitude|altitude|timezone|DST|         tz_database|   Type|     Source|\n",
      "+---------+--------------------+--------------+----------------+----+----+------------------+-------------------+--------+--------+---+--------------------+-------+-----------+\n",
      "|        1|      Goroka Airport|        Goroka|Papua New Guinea| GKA|AYGA|-6.081689834590001|      145.391998291|    5282|      10|  U|Pacific/Port_Moresby|airport|OurAirports|\n",
      "|        2|      Madang Airport|        Madang|Papua New Guinea| MAG|AYMD|    -5.20707988739|      145.789001465|      20|      10|  U|Pacific/Port_Moresby|airport|OurAirports|\n",
      "|        3|Mount Hagen Kagam...|   Mount Hagen|Papua New Guinea| HGU|AYMH|-5.826789855957031| 144.29600524902344|    5388|      10|  U|Pacific/Port_Moresby|airport|OurAirports|\n",
      "|        4|      Nadzab Airport|        Nadzab|Papua New Guinea| LAE|AYNZ|         -6.569803|         146.725977|     239|      10|  U|Pacific/Port_Moresby|airport|OurAirports|\n",
      "|        5|Port Moresby Jack...|  Port Moresby|Papua New Guinea| POM|AYPY|-9.443380355834961| 147.22000122070312|     146|      10|  U|Pacific/Port_Moresby|airport|OurAirports|\n",
      "|        6|Wewak Internation...|         Wewak|Papua New Guinea| WWK|AYWK|    -3.58383011818|      143.669006348|      19|      10|  U|Pacific/Port_Moresby|airport|OurAirports|\n",
      "|        7|  Narsarsuaq Airport|  Narssarssuaq|       Greenland| UAK|BGBW|     61.1604995728|     -45.4259986877|     112|      -3|  E|     America/Godthab|airport|OurAirports|\n",
      "|        8|Godthaab / Nuuk A...|      Godthaab|       Greenland| GOH|BGGH|       64.19090271|     -51.6781005859|     283|      -3|  E|     America/Godthab|airport|OurAirports|\n",
      "|        9|Kangerlussuaq Air...|   Sondrestrom|       Greenland| SFJ|BGSF|     67.0122218992|     -50.7116031647|     165|      -3|  E|     America/Godthab|airport|OurAirports|\n",
      "|       10|      Thule Air Base|         Thule|       Greenland| THU|BGTL|     76.5311965942|     -68.7032012939|     251|      -4|  E|       America/Thule|airport|OurAirports|\n",
      "|       11|    Akureyri Airport|      Akureyri|         Iceland| AEY|BIAR| 65.66000366210938| -18.07270050048828|       6|       0|  N|  Atlantic/Reykjavik|airport|OurAirports|\n",
      "|       12| Egilsstaðir Airport|   Egilsstadir|         Iceland| EGS|BIEG|  65.2833023071289|-14.401399612426758|      76|       0|  N|  Atlantic/Reykjavik|airport|OurAirports|\n",
      "|       13|Hornafjörður Airport|          Hofn|         Iceland| HFN|BIHN|         64.295601|           -15.2272|      24|       0|  N|  Atlantic/Reykjavik|airport|OurAirports|\n",
      "|       14|     Húsavík Airport|       Husavik|         Iceland| HZK|BIHU|         65.952301|         -17.426001|      48|       0|  N|  Atlantic/Reykjavik|airport|OurAirports|\n",
      "|       15|  Ísafjörður Airport|    Isafjordur|         Iceland| IFJ|BIIS| 66.05809783935547|-23.135299682617188|       8|       0|  N|  Atlantic/Reykjavik|airport|OurAirports|\n",
      "|       16|Keflavik Internat...|      Keflavik|         Iceland| KEF|BIKF|   63.985000610352|   -22.605600357056|     171|       0|  N|  Atlantic/Reykjavik|airport|OurAirports|\n",
      "|       17|Patreksfjörður Ai...|Patreksfjordur|         Iceland| PFJ|BIPA|         65.555801|            -23.965|      11|       0|  N|  Atlantic/Reykjavik|airport|OurAirports|\n",
      "|       18|   Reykjavik Airport|     Reykjavik|         Iceland| RKV|BIRK|     64.1299972534|     -21.9405994415|      48|       0|  N|  Atlantic/Reykjavik|airport|OurAirports|\n",
      "|       19|Siglufjörður Airport|  Siglufjordur|         Iceland| SIJ|BISI|         66.133301|           -18.9167|      10|       0|  N|  Atlantic/Reykjavik|airport|OurAirports|\n",
      "|       20|Vestmannaeyjar Ai...|Vestmannaeyjar|         Iceland| VEY|BIVM| 63.42430114746094|-20.278900146484375|     326|       0|  N|  Atlantic/Reykjavik|airport|OurAirports|\n",
      "+---------+--------------------+--------------+----------------+----+----+------------------+-------------------+--------+--------+---+--------------------+-------+-----------+\n",
      "only showing top 20 rows\n",
      "\n",
      "None\n"
     ]
    }
   ],
   "source": [
    "airports = spark.read.csv(airports_path,header=False, inferSchema=False)\n",
    "airports = airports.toDF('AirportID', 'name', 'city', 'Country', 'IATA', 'ICAO', 'latitude', 'longitude', 'altitude', 'timezone', 'DST', 'tz_database', 'Type', 'Source')\n",
    "\n",
    "print(airports.show())"
   ]
  },
  {
   "cell_type": "code",
   "execution_count": 165,
   "metadata": {
    "id": "JmQK4ctBeOiN"
   },
   "outputs": [],
   "source": [
    "# airports_xy = airports.select('Country', 'Literacy (%)', 'Infant mortality (per 1000 births)', 'GDP ($ per capita)').na.drop()\n",
    "airports_xy_df = airports.withColumn(\"Lattitude\", float_udf(\"latitude\")).withColumn(\"Longitude\", float_udf(\"longitude\")).select('Lattitude', 'Longitude').toPandas()"
   ]
  },
  {
   "cell_type": "code",
   "execution_count": 166,
   "metadata": {
    "colab": {
     "base_uri": "https://localhost:8080/",
     "height": 419
    },
    "id": "4bVA83NdjeMw",
    "outputId": "c0c3fc4d-72ce-4b9d-987a-82fc839e3542"
   },
   "outputs": [
    {
     "data": {
      "text/html": [
       "<div>\n",
       "<style scoped>\n",
       "    .dataframe tbody tr th:only-of-type {\n",
       "        vertical-align: middle;\n",
       "    }\n",
       "\n",
       "    .dataframe tbody tr th {\n",
       "        vertical-align: top;\n",
       "    }\n",
       "\n",
       "    .dataframe thead th {\n",
       "        text-align: right;\n",
       "    }\n",
       "</style>\n",
       "<table border=\"1\" class=\"dataframe\">\n",
       "  <thead>\n",
       "    <tr style=\"text-align: right;\">\n",
       "      <th></th>\n",
       "      <th>Lattitude</th>\n",
       "      <th>Longitude</th>\n",
       "    </tr>\n",
       "  </thead>\n",
       "  <tbody>\n",
       "    <tr>\n",
       "      <th>0</th>\n",
       "      <td>-6.081690</td>\n",
       "      <td>145.391998</td>\n",
       "    </tr>\n",
       "    <tr>\n",
       "      <th>1</th>\n",
       "      <td>-5.207080</td>\n",
       "      <td>145.789001</td>\n",
       "    </tr>\n",
       "    <tr>\n",
       "      <th>2</th>\n",
       "      <td>-5.826790</td>\n",
       "      <td>144.296005</td>\n",
       "    </tr>\n",
       "    <tr>\n",
       "      <th>3</th>\n",
       "      <td>-6.569803</td>\n",
       "      <td>146.725983</td>\n",
       "    </tr>\n",
       "    <tr>\n",
       "      <th>4</th>\n",
       "      <td>-9.443380</td>\n",
       "      <td>147.220001</td>\n",
       "    </tr>\n",
       "    <tr>\n",
       "      <th>...</th>\n",
       "      <td>...</td>\n",
       "      <td>...</td>\n",
       "    </tr>\n",
       "    <tr>\n",
       "      <th>7179</th>\n",
       "      <td>32.257885</td>\n",
       "      <td>120.501656</td>\n",
       "    </tr>\n",
       "    <tr>\n",
       "      <th>7180</th>\n",
       "      <td>31.390600</td>\n",
       "      <td>118.408997</td>\n",
       "    </tr>\n",
       "    <tr>\n",
       "      <th>7181</th>\n",
       "      <td>42.911701</td>\n",
       "      <td>90.247498</td>\n",
       "    </tr>\n",
       "    <tr>\n",
       "      <th>7182</th>\n",
       "      <td>40.542522</td>\n",
       "      <td>122.358597</td>\n",
       "    </tr>\n",
       "    <tr>\n",
       "      <th>7183</th>\n",
       "      <td>41.784401</td>\n",
       "      <td>123.496002</td>\n",
       "    </tr>\n",
       "  </tbody>\n",
       "</table>\n",
       "<p>7184 rows × 2 columns</p>\n",
       "</div>"
      ],
      "text/plain": [
       "      Lattitude   Longitude\n",
       "0     -6.081690  145.391998\n",
       "1     -5.207080  145.789001\n",
       "2     -5.826790  144.296005\n",
       "3     -6.569803  146.725983\n",
       "4     -9.443380  147.220001\n",
       "...         ...         ...\n",
       "7179  32.257885  120.501656\n",
       "7180  31.390600  118.408997\n",
       "7181  42.911701   90.247498\n",
       "7182  40.542522  122.358597\n",
       "7183  41.784401  123.496002\n",
       "\n",
       "[7184 rows x 2 columns]"
      ]
     },
     "execution_count": 166,
     "metadata": {},
     "output_type": "execute_result"
    }
   ],
   "source": [
    "airports_xy_df"
   ]
  },
  {
   "cell_type": "code",
   "execution_count": 167,
   "metadata": {
    "id": "HwaQLt2zluVv"
   },
   "outputs": [],
   "source": [
    "longitudes = airports_xy_df['Longitude'].values.tolist()\n",
    "lattitudes = airports_xy_df['Lattitude'].values.tolist()"
   ]
  },
  {
   "cell_type": "code",
   "execution_count": 168,
   "metadata": {
    "id": "NZImRbkKmgBV"
   },
   "outputs": [],
   "source": [
    "# !pip install cartopy"
   ]
  },
  {
   "cell_type": "code",
   "execution_count": 169,
   "metadata": {
    "colab": {
     "base_uri": "https://localhost:8080/",
     "height": 198
    },
    "id": "PTKHti5ajRuF",
    "outputId": "33f7cb44-f6ac-44e4-b0d3-0bc9dbe675a9"
   },
   "outputs": [
    {
     "data": {
      "image/png": "[encoded data removed]",
      "text/plain": [
       "<Figure size 432x288 with 1 Axes>"
      ]
     },
     "metadata": {
      "needs_background": "light"
     },
     "output_type": "display_data"
    }
   ],
   "source": [
    "import cartopy.crs as ccrs\n",
    "import matplotlib.pyplot as plt\n",
    "\n",
    "ax = plt.axes(projection=ccrs.PlateCarree())\n",
    "ax.stock_img()\n",
    "\n",
    "plt.scatter(longitudes, lattitudes, s=1, color='red')\n",
    "plt.show()"
   ]
  },
  {
   "cell_type": "markdown",
   "metadata": {
    "id": "QJP8QjvsnQJI"
   },
   "source": [
    "# Task 3\n",
    "Utwórz dwie nowe kolumny w ramce \"Countries\", w których powierzchnia i gęstość zaludnienia wyrażone sa odpowiednio w milach kwadratowych i osobach na milę kwadratową\n",
    "- Nazwy nowych kolumn proszę ustawić odpowiednio na 'Area (sq mi)' oraz 'Pop Density (per sq mi)'\n",
    "- Uwaga: Typami nowych kolumn mają być odpowiednio integer (powierzchnia) i float (gęstość). Zaokrąglanie do integer: \"int(x)\""
   ]
  },
  {
   "cell_type": "markdown",
   "metadata": {
    "id": "06jM_9zqorEA"
   },
   "source": [
    "Obecnie powierzchnia państw jest podana w km kwadratowych, a liczba ludności w os/km kw\n",
    "\n",
    "1 sq km = 0.386102 sq mi"
   ]
  },
  {
   "cell_type": "code",
   "execution_count": 142,
   "metadata": {
    "id": "pXzV5hXbrdd6"
   },
   "outputs": [],
   "source": [
    "def to_miles(elem):\n",
    "  return int(float(elem * 0.38))"
   ]
  },
  {
   "cell_type": "code",
   "execution_count": 143,
   "metadata": {
    "id": "26rPw0_frUlT"
   },
   "outputs": [],
   "source": [
    "miles_udf = udf(to_miles, IntegerType())"
   ]
  },
  {
   "cell_type": "markdown",
   "metadata": {
    "id": "UrRjvj6c6FlS"
   },
   "source": [
    "Poniższa funkcja była zmieniana, żeby dopasować dane krajów w celu joina"
   ]
  },
  {
   "cell_type": "code",
   "execution_count": 284,
   "metadata": {
    "id": "psd3qqQk7pcU"
   },
   "outputs": [],
   "source": [
    "import re"
   ]
  },
  {
   "cell_type": "code",
   "execution_count": 411,
   "metadata": {
    "id": "8X0b3iaC1qaN"
   },
   "outputs": [],
   "source": [
    "def clear_string(elem):\n",
    "  elem = elem.strip()\n",
    "  elem = elem.replace(' and ', ' & ')\n",
    "  elem = elem.replace(' And ', ' & ')\n",
    "  elem = re.sub('Island(s)?', 'Is', elem, flags=re.IGNORECASE)\n",
    "  elem = re.sub('Is(l|ls|\\.)?', 'Is', elem, flags=re.IGNORECASE)\n",
    "  elem = elem.replace(', Fed. St.', '')\n",
    "  elem = elem.replace(', The', '')\n",
    "  elem = elem.replace('Korea, North', 'North Korea')\n",
    "  elem = elem.replace('Korea, South', 'South Korea')\n",
    "  elem = elem.replace('Congo, Repub. of the', 'Congo (Brazzaville)')\n",
    "  elem = elem.replace('Congo, Dem. Rep.', 'Congo (Kinshasa)')\n",
    "  elem = elem.replace('Rep.', 'Republic')\n",
    "  elem = elem.replace('N.', 'Northern')\n",
    "  elem = elem.replace('St', 'Saint')\n",
    "  return elem"
   ]
  },
  {
   "cell_type": "code",
   "execution_count": 412,
   "metadata": {
    "id": "7gOmb8NP12N-"
   },
   "outputs": [],
   "source": [
    "string_udf = udf(clear_string, StringType())"
   ]
  },
  {
   "cell_type": "code",
   "execution_count": 413,
   "metadata": {
    "id": "SuwL1N8fnR55"
   },
   "outputs": [],
   "source": [
    "countries_min = countries.withColumn(\"Area (sq mi)\", miles_udf(\"`Area (sq. mi.)`\")) \n",
    "countries_min = countries_min.withColumn(\"Pop Density (per sq mi)\", countries[\"Population\"] / countries_min[\"Area (sq mi)\"])\n",
    "countries_min = countries_min.withColumn(\"Country cleaned\", string_udf('Country'))\n",
    "countries_min = countries_min.select('Country cleaned', 'Region', 'Area (sq mi)', 'Pop Density (per sq mi)')"
   ]
  },
  {
   "cell_type": "code",
   "execution_count": 414,
   "metadata": {
    "colab": {
     "base_uri": "https://localhost:8080/"
    },
    "id": "flpJSSlksdrR",
    "outputId": "7877d30d-e69a-4ea7-df3f-b1d33ff334da"
   },
   "outputs": [
    {
     "name": "stdout",
     "output_type": "stream",
     "text": [
      "+-----------------+--------------------+------------+-----------------------+\n",
      "|  Country cleaned|              Region|Area (sq mi)|Pop Density (per sq mi)|\n",
      "+-----------------+--------------------+------------+-----------------------+\n",
      "|      AfghanIstan|ASIA (EX. NEAR EA...|      246050|     126.22230034545824|\n",
      "|          Albania|EASTERN EUROPE   ...|       10924|      327.8702856096668|\n",
      "|          Algeria|NORTHERN AFRICA  ...|      905061|      36.38438845558476|\n",
      "|   American Samoa|OCEANIA          ...|          75|      770.5866666666667|\n",
      "|          Andorra|WESTERN EUROPE   ...|         177|     402.26553672316385|\n",
      "|           Angola|SUB-SAHARAN AFRIC...|      473746|      25.59825518315722|\n",
      "|         Anguilla|LATIN AMER. & CAR...|          38|      354.6578947368421|\n",
      "|Antigua & Barbuda|LATIN AMER. & CAR...|         168|     411.35714285714283|\n",
      "|        Argentina|LATIN AMER. & CAR...|     1051418|      37.96951640546386|\n",
      "|          Armenia|C.W. OF IND. STATES |       11324|      262.8375132462028|\n",
      "|            Aruba|LATIN AMER. & CAR...|          73|      984.8082191780821|\n",
      "|        Australia|OCEANIA          ...|     2921003|      6.937371170108349|\n",
      "|          Austria|WESTERN EUROPE   ...|       31870|     257.07185440853465|\n",
      "|       Azerbaijan|C.W. OF IND. STATES |       32908|     241.93566913820348|\n",
      "|          Bahamas|LATIN AMER. & CAR...|        5297|      57.34755521993581|\n",
      "|          Bahrain|NEAR EAST        ...|         252|     2772.1626984126983|\n",
      "|       Bangladesh|ASIA (EX. NEAR EA...|       54720|      2693.080263157895|\n",
      "|         Barbados|LATIN AMER. & CAR...|         163|     1717.2515337423313|\n",
      "|          Belarus|C.W. OF IND. STATES |       78888|      130.4762574789575|\n",
      "|          Belgium|WESTERN EUROPE   ...|       11600|      894.7471551724138|\n",
      "+-----------------+--------------------+------------+-----------------------+\n",
      "only showing top 20 rows\n",
      "\n"
     ]
    }
   ],
   "source": [
    "countries_min.show()"
   ]
  },
  {
   "cell_type": "markdown",
   "metadata": {
    "id": "aptwLAh0vrrf"
   },
   "source": [
    "# Task 4\n",
    "Na wykresie scatterplot narysuj zależność liczby lotnisk od powierzchni kraju.\n",
    "- Dane potrzebne do wykresu są w dwóch ramkach (Countries i Airports), konieczne więc będzie ich złączenie (join).\n",
    "- Nie zawsze nazwy tych samych krajów będą identyczne w obu ramkach, co może stanowić problem (złączenie nie powstanie). Zastanów się jak przy pomocy mechanizmu złączeń wykryć, które nazwy się różnią. Stwórz odpowiednią ramkę, która zawiera takie nazwy.\n",
    "- Następnie zmień nazwy kilku największych państw w jednej z ramek, tak żeby ujednolicić nazwy. Można to zrobić funkcją replace."
   ]
  },
  {
   "cell_type": "code",
   "execution_count": 415,
   "metadata": {
    "id": "PK0BeeyxucmN"
   },
   "outputs": [],
   "source": [
    "airports_countries = airports.select('Country', 'name').groupBy('Country').count()\n",
    "airports_countries = airports_countries.withColumn('AirCountry', string_udf('Country')).select('AirCountry', 'count')"
   ]
  },
  {
   "cell_type": "code",
   "execution_count": 416,
   "metadata": {
    "colab": {
     "base_uri": "https://localhost:8080/"
    },
    "id": "BrmNvNPPwtCQ",
    "outputId": "33b5c4f7-e0cf-4717-cd20-3dec4b6465ef"
   },
   "outputs": [
    {
     "name": "stdout",
     "output_type": "stream",
     "text": [
      "+--------------------+-----+\n",
      "|          AirCountry|count|\n",
      "+--------------------+-----+\n",
      "|                Chad|    6|\n",
      "|            Paraguay|    8|\n",
      "|            Anguilla|    1|\n",
      "|              Russia|  238|\n",
      "|BritIsh Indian Oc...|    1|\n",
      "|               Yemen|   11|\n",
      "|             Senegal|    9|\n",
      "|              Sweden|   77|\n",
      "|            Kiribati|   18|\n",
      "|              Guyana|   13|\n",
      "|              Jersey|    1|\n",
      "|         Philippines|   64|\n",
      "|               Burma|   43|\n",
      "|             Eritrea|    3|\n",
      "|               Tonga|    6|\n",
      "|          Norfolk Is|    1|\n",
      "|            Djibouti|    3|\n",
      "|            Malaysia|   40|\n",
      "|           Singapore|    6|\n",
      "|                Fiji|   17|\n",
      "+--------------------+-----+\n",
      "only showing top 20 rows\n",
      "\n"
     ]
    }
   ],
   "source": [
    "airports_countries.show()"
   ]
  },
  {
   "cell_type": "code",
   "execution_count": 417,
   "metadata": {
    "colab": {
     "base_uri": "https://localhost:8080/"
    },
    "id": "HgnKBdzezfNc",
    "outputId": "136f2c05-83d8-428e-c39b-4ff0370624f1"
   },
   "outputs": [
    {
     "data": {
      "text/plain": [
       "237"
      ]
     },
     "execution_count": 417,
     "metadata": {},
     "output_type": "execute_result"
    }
   ],
   "source": [
    "airports_countries.count()  "
   ]
  },
  {
   "cell_type": "code",
   "execution_count": 418,
   "metadata": {
    "colab": {
     "base_uri": "https://localhost:8080/"
    },
    "id": "jo_WsxNizijd",
    "outputId": "9d03568b-22bf-4a7b-ad9d-b81bf91e2a28"
   },
   "outputs": [
    {
     "data": {
      "text/plain": [
       "227"
      ]
     },
     "execution_count": 418,
     "metadata": {},
     "output_type": "execute_result"
    }
   ],
   "source": [
    "countries.count() "
   ]
  },
  {
   "cell_type": "code",
   "execution_count": 419,
   "metadata": {
    "id": "enmonHX-3H_x"
   },
   "outputs": [],
   "source": [
    "df = countries_min.join(airports_countries, countries_min['Country cleaned'] == airports_countries['AirCountry'], how='outer')"
   ]
  },
  {
   "cell_type": "code",
   "execution_count": 420,
   "metadata": {
    "colab": {
     "base_uri": "https://localhost:8080/"
    },
    "id": "znYLlU-zzn5G",
    "outputId": "bb2581c8-1271-4a73-aab9-c130c45cc5b8"
   },
   "outputs": [
    {
     "name": "stdout",
     "output_type": "stream",
     "text": [
      "+-----------------+--------------------+------------+-----------------------+-----------------+-----+\n",
      "|  Country cleaned|              Region|Area (sq mi)|Pop Density (per sq mi)|       AirCountry|count|\n",
      "+-----------------+--------------------+------------+-----------------------+-----------------+-----+\n",
      "|      AfghanIstan|ASIA (EX. NEAR EA...|      246050|     126.22230034545824|      AfghanIstan|   20|\n",
      "|          Albania|EASTERN EUROPE   ...|       10924|      327.8702856096668|          Albania|    5|\n",
      "|          Algeria|NORTHERN AFRICA  ...|      905061|      36.38438845558476|          Algeria|   43|\n",
      "|   American Samoa|OCEANIA          ...|          75|      770.5866666666667|   American Samoa|    2|\n",
      "|          Andorra|WESTERN EUROPE   ...|         177|     402.26553672316385|             null| null|\n",
      "|           Angola|SUB-SAHARAN AFRIC...|      473746|      25.59825518315722|           Angola|   24|\n",
      "|         Anguilla|LATIN AMER. & CAR...|          38|      354.6578947368421|         Anguilla|    1|\n",
      "|             null|                null|        null|                   null|       Antarctica|    7|\n",
      "|Antigua & Barbuda|LATIN AMER. & CAR...|         168|     411.35714285714283|Antigua & Barbuda|    2|\n",
      "|        Argentina|LATIN AMER. & CAR...|     1051418|      37.96951640546386|        Argentina|   94|\n",
      "|          Armenia|C.W. OF IND. STATES |       11324|      262.8375132462028|          Armenia|    5|\n",
      "|            Aruba|LATIN AMER. & CAR...|          73|      984.8082191780821|            Aruba|    1|\n",
      "|        Australia|OCEANIA          ...|     2921003|      6.937371170108349|        Australia|  296|\n",
      "|          Austria|WESTERN EUROPE   ...|       31870|     257.07185440853465|          Austria|   19|\n",
      "|       Azerbaijan|C.W. OF IND. STATES |       32908|     241.93566913820348|       Azerbaijan|    7|\n",
      "|          Bahamas|LATIN AMER. & CAR...|        5297|      57.34755521993581|          Bahamas|   33|\n",
      "|          Bahrain|NEAR EAST        ...|         252|     2772.1626984126983|          Bahrain|    2|\n",
      "|       Bangladesh|ASIA (EX. NEAR EA...|       54720|      2693.080263157895|       Bangladesh|   10|\n",
      "|         Barbados|LATIN AMER. & CAR...|         163|     1717.2515337423313|         Barbados|    1|\n",
      "|          Belarus|C.W. OF IND. STATES |       78888|      130.4762574789575|          Belarus|   10|\n",
      "+-----------------+--------------------+------------+-----------------------+-----------------+-----+\n",
      "only showing top 20 rows\n",
      "\n"
     ]
    }
   ],
   "source": [
    "df.show()"
   ]
  },
  {
   "cell_type": "code",
   "execution_count": 421,
   "metadata": {
    "colab": {
     "base_uri": "https://localhost:8080/"
    },
    "id": "Nr9pgLED3gMB",
    "outputId": "db8f1ac6-5d19-4681-e6ff-6d46ef2a4dfc"
   },
   "outputs": [
    {
     "name": "stdout",
     "output_type": "stream",
     "text": [
      "+---------------+-----------------------------------+------------+-----------------------+------------------------------+-----+\n",
      "|Country cleaned|Region                             |Area (sq mi)|Pop Density (per sq mi)|AirCountry                    |count|\n",
      "+---------------+-----------------------------------+------------+-----------------------+------------------------------+-----+\n",
      "|Andorra        |WESTERN EUROPE                     |177         |402.26553672316385     |null                          |null |\n",
      "|null           |null                               |null        |null                   |Antarctica                    |7    |\n",
      "|null           |null                               |null        |null                   |BritIsh Indian Ocean Territory|1    |\n",
      "|null           |null                               |null        |null                   |ChrIstmas Is                  |1    |\n",
      "|null           |null                               |null        |null                   |Cocos (Keeling) Is            |1    |\n",
      "|null           |null                               |null        |null                   |Falkland Is                   |2    |\n",
      "|Gaza Saintrip  |NEAR EAST                          |136         |10505.566176470587     |null                          |null |\n",
      "|null           |null                               |null        |null                   |Johnston Atoll                |1    |\n",
      "|Liechtenstein  |WESTERN EUROPE                     |60          |566.45                 |null                          |null |\n",
      "|null           |null                               |null        |null                   |Midway Is                     |1    |\n",
      "|Monaco         |WESTERN EUROPE                     |0           |null                   |null                          |null |\n",
      "|null           |null                               |null        |null                   |Montenegro                    |2    |\n",
      "|null           |null                               |null        |null                   |Myanmar                       |1    |\n",
      "|null           |null                               |null        |null                   |Niue                          |1    |\n",
      "|null           |null                               |null        |null                   |Norfolk Is                    |1    |\n",
      "|null           |null                               |null        |null                   |Palestine                     |1    |\n",
      "|San Marino     |WESTERN EUROPE                     |23          |1271.7826086956522     |null                          |null |\n",
      "|null           |null                               |null        |null                   |South Sudan                   |2    |\n",
      "|null           |null                               |null        |null                   |Svalbard                      |2    |\n",
      "|null           |null                               |null        |null                   |Wake Is                       |1    |\n",
      "+---------------+-----------------------------------+------------+-----------------------+------------------------------+-----+\n",
      "\n"
     ]
    }
   ],
   "source": [
    "df.filter(col('Country cleaned').isNull() | col('AirCountry').isNull()).show(df.count(), False)"
   ]
  },
  {
   "cell_type": "markdown",
   "metadata": {
    "id": "PgUt2VeX5umO"
   },
   "source": [
    "Co powoduje problemy:\n",
    " - Is zamiast Islands\n",
    " - & zamiast and\n",
    " - , The w Bahamach i Gambii\n",
    " - South Korea i Korea, South"
   ]
  },
  {
   "cell_type": "code",
   "execution_count": 427,
   "metadata": {
    "id": "eeC9Qu4KzXWc"
   },
   "outputs": [],
   "source": [
    "area_airports = df.na.drop()"
   ]
  },
  {
   "cell_type": "code",
   "execution_count": 428,
   "metadata": {
    "id": "xNxfmu6IFecs"
   },
   "outputs": [],
   "source": [
    "area_airports_df = area_airports.toPandas()"
   ]
  },
  {
   "cell_type": "code",
   "execution_count": 438,
   "metadata": {
    "colab": {
     "base_uri": "https://localhost:8080/",
     "height": 638
    },
    "id": "Btg_t-YaIAlO",
    "outputId": "eefe6542-0c80-42bb-f38c-5c48b01e219a"
   },
   "outputs": [
    {
     "data": {
      "text/plain": [
       "<matplotlib.axes._subplots.AxesSubplot at 0x7f412d387dd0>"
      ]
     },
     "execution_count": 438,
     "metadata": {},
     "output_type": "execute_result"
    },
    {
     "data": {
      "image/png": "[encoded data removed]",
      "text/plain": [
       "<Figure size 1440x720 with 1 Axes>"
      ]
     },
     "metadata": {
      "needs_background": "light"
     },
     "output_type": "display_data"
    }
   ],
   "source": [
    "area_airports_df.plot(x='Area (sq mi)', y=['count'], kind='scatter', title='Count of airports / area', figsize=(20,10))"
   ]
  },
  {
   "cell_type": "code",
   "execution_count": 439,
   "metadata": {
    "colab": {
     "base_uri": "https://localhost:8080/",
     "height": 316
    },
    "id": "W4m_amxkGNBt",
    "outputId": "4ac715ed-4a79-4ff9-9251-18164f2029ff"
   },
   "outputs": [
    {
     "data": {
      "text/plain": [
       "<matplotlib.axes._subplots.AxesSubplot at 0x7f412d326450>"
      ]
     },
     "execution_count": 439,
     "metadata": {},
     "output_type": "execute_result"
    },
    {
     "data": {
      "image/png": "[encoded data removed]",
      "text/plain": [
       "<Figure size 432x288 with 1 Axes>"
      ]
     },
     "metadata": {
      "needs_background": "light"
     },
     "output_type": "display_data"
    }
   ],
   "source": [
    "area_airports_df.plot(x='Area (sq mi)', y=['count'], kind='scatter', title='Count of airports / area', logx=True, logy=True)"
   ]
  },
  {
   "cell_type": "markdown",
   "metadata": {
    "id": "0Iavn83LHntD"
   },
   "source": [
    "# Task 5\n",
    "Oblicz, ile lotnisk jest na poszczególnych kontynentach. To zadanie również wymaga złączenia ramek \"Countries\" i \"Airports\". Wynik przedstaw na wykresie słupkowym.\n",
    "- Do ramki \"Countries\" dodaj nową kolumnę \"Continent\" (według klasyfikacji Africa, Asia, Europe, North America, South America, Antarctica, Australia/Oceania).\n",
    "- Skorzystaj z kolumny \"Region\" i pomocniczej funkcji (UDF) mapującej region na kontynent."
   ]
  },
  {
   "cell_type": "markdown",
   "metadata": {
    "id": "Qz4zg4z2K8qn"
   },
   "source": [
    "C.W. OF IND. STATES - to Azja lub Europa, ale głównie Azja, więc oznaczam jako Asia,\n",
    "\n",
    "podobnie NEAR EAST - głównie Azja"
   ]
  },
  {
   "cell_type": "code",
   "execution_count": 496,
   "metadata": {
    "id": "-hZ6VonBGoTx"
   },
   "outputs": [],
   "source": [
    "def select_continent(elem):\n",
    "  elem = elem.lower()\n",
    "  if any(word in elem for word in ['africa']):\n",
    "    return 'Africa'\n",
    "  if any(word in elem for word in ['asia', 'c.w. of ind. states', 'near east']):\n",
    "    return 'Asia'\n",
    "  if any(word in elem for word in ['europe', 'baltics']):\n",
    "    return 'Europe'\n",
    "  if any(word in elem for word in ['northern america']):\n",
    "    return 'North America'\n",
    "  if any(word in elem for word in ['latin amer.']):\n",
    "    return 'South America'\n",
    "  if any(word in elem for word in ['antarctica']):\n",
    "    return 'Antarctica'\n",
    "  if any(word in elem for word in ['australia', 'oceania']):\n",
    "    return 'Australia/Oceania'\n",
    "  return 'Other'"
   ]
  },
  {
   "cell_type": "code",
   "execution_count": 497,
   "metadata": {
    "id": "TgNaSz5DIZv9"
   },
   "outputs": [],
   "source": [
    "continent_udf = udf(select_continent, StringType())"
   ]
  },
  {
   "cell_type": "code",
   "execution_count": 498,
   "metadata": {
    "id": "23jQfIl0IeND"
   },
   "outputs": [],
   "source": [
    "countries_cont = countries_min.withColumn(\"Continent\", continent_udf('Region')) \\\n",
    "  .select('Country cleaned', 'Continent')"
   ]
  },
  {
   "cell_type": "code",
   "execution_count": 499,
   "metadata": {
    "colab": {
     "base_uri": "https://localhost:8080/"
    },
    "id": "C6cdWnfPIwBA",
    "outputId": "b7ecf1c8-8115-4652-f3ef-3c1753cdd3b5"
   },
   "outputs": [
    {
     "name": "stdout",
     "output_type": "stream",
     "text": [
      "+-----------------+-----------------+\n",
      "|  Country cleaned|        Continent|\n",
      "+-----------------+-----------------+\n",
      "|      AfghanIstan|             Asia|\n",
      "|          Albania|           Europe|\n",
      "|          Algeria|           Africa|\n",
      "|   American Samoa|Australia/Oceania|\n",
      "|          Andorra|           Europe|\n",
      "|           Angola|           Africa|\n",
      "|         Anguilla|    South America|\n",
      "|Antigua & Barbuda|    South America|\n",
      "|        Argentina|    South America|\n",
      "|          Armenia|             Asia|\n",
      "|            Aruba|    South America|\n",
      "|        Australia|Australia/Oceania|\n",
      "|          Austria|           Europe|\n",
      "|       Azerbaijan|             Asia|\n",
      "|          Bahamas|    South America|\n",
      "|          Bahrain|             Asia|\n",
      "|       Bangladesh|             Asia|\n",
      "|         Barbados|    South America|\n",
      "|          Belarus|             Asia|\n",
      "|          Belgium|           Europe|\n",
      "+-----------------+-----------------+\n",
      "only showing top 20 rows\n",
      "\n"
     ]
    }
   ],
   "source": [
    "countries_cont.show()"
   ]
  },
  {
   "cell_type": "code",
   "execution_count": 500,
   "metadata": {
    "colab": {
     "base_uri": "https://localhost:8080/"
    },
    "id": "ZO6woJvaJ3iI",
    "outputId": "c8d360e3-8f9f-40db-a2ec-053e450dfd77"
   },
   "outputs": [
    {
     "name": "stdout",
     "output_type": "stream",
     "text": [
      "+---------------+---------+\n",
      "|Country cleaned|Continent|\n",
      "+---------------+---------+\n",
      "+---------------+---------+\n",
      "\n"
     ]
    }
   ],
   "source": [
    "countries_cont.filter(col('Continent') == 'Other').show()"
   ]
  },
  {
   "cell_type": "code",
   "execution_count": 533,
   "metadata": {
    "colab": {
     "base_uri": "https://localhost:8080/"
    },
    "id": "pb-Wu5g7KGJW",
    "outputId": "c053224c-9372-45f9-dfc1-0b8bfc58db5a"
   },
   "outputs": [
    {
     "name": "stdout",
     "output_type": "stream",
     "text": [
      "+-----------------+-----------------+-----------------+--------+\n",
      "|  Country cleaned|        Continent|       AirCountry|Airports|\n",
      "+-----------------+-----------------+-----------------+--------+\n",
      "|      AfghanIstan|             Asia|      AfghanIstan|      20|\n",
      "|          Albania|           Europe|          Albania|       5|\n",
      "|          Algeria|           Africa|          Algeria|      43|\n",
      "|   American Samoa|Australia/Oceania|   American Samoa|       2|\n",
      "|           Angola|           Africa|           Angola|      24|\n",
      "|         Anguilla|    South America|         Anguilla|       1|\n",
      "|Antigua & Barbuda|    South America|Antigua & Barbuda|       2|\n",
      "|        Argentina|    South America|        Argentina|      94|\n",
      "|          Armenia|             Asia|          Armenia|       5|\n",
      "|            Aruba|    South America|            Aruba|       1|\n",
      "|        Australia|Australia/Oceania|        Australia|     296|\n",
      "|          Austria|           Europe|          Austria|      19|\n",
      "|       Azerbaijan|             Asia|       Azerbaijan|       7|\n",
      "|          Bahamas|    South America|          Bahamas|      33|\n",
      "|          Bahrain|             Asia|          Bahrain|       2|\n",
      "|       Bangladesh|             Asia|       Bangladesh|      10|\n",
      "|         Barbados|    South America|         Barbados|       1|\n",
      "|          Belarus|             Asia|          Belarus|      10|\n",
      "|          Belgium|           Europe|          Belgium|      24|\n",
      "|           Belize|    South America|           Belize|       2|\n",
      "+-----------------+-----------------+-----------------+--------+\n",
      "only showing top 20 rows\n",
      "\n"
     ]
    }
   ],
   "source": [
    "cont_airports = countries_cont.join(airports_countries, countries_min['Country cleaned'] == airports_countries['AirCountry'], how='outer').na.drop()\n",
    "cont_airports = cont_airports.withColumnRenamed('count', 'Airports')\n",
    "cont_airports.show()"
   ]
  },
  {
   "cell_type": "code",
   "execution_count": 536,
   "metadata": {
    "colab": {
     "base_uri": "https://localhost:8080/"
    },
    "id": "Pi9HxnQqPYtD",
    "outputId": "fd8ae412-4c82-4a5f-e46a-b2877fbb11f2"
   },
   "outputs": [
    {
     "name": "stdout",
     "output_type": "stream",
     "text": [
      "+-----------------+---------------------+\n",
      "|        Continent|Airports in continent|\n",
      "+-----------------+---------------------+\n",
      "|Australia/Oceania|                  549|\n",
      "|           Africa|                  707|\n",
      "|    South America|                  969|\n",
      "|           Europe|                 1395|\n",
      "|             Asia|                 1662|\n",
      "|    North America|                 1877|\n",
      "+-----------------+---------------------+\n",
      "\n"
     ]
    }
   ],
   "source": [
    "cont_airports.select('Continent', 'Airports').groupBy('Continent').agg(sum('Airports').alias('Airports in continent')).sort('Airports in continent').show()"
   ]
  }
 ],
 "metadata": {
  "colab": {
   "name": "Lab2.ipynb",
   "provenance": []
  },
  "kernelspec": {
   "display_name": "Python 3",
   "language": "python",
   "name": "python3"
  },
  "language_info": {
   "codemirror_mode": {
    "name": "ipython",
    "version": 3
   },
   "file_extension": ".py",
   "mimetype": "text/x-python",
   "name": "python",
   "nbconvert_exporter": "python",
   "pygments_lexer": "ipython3",
   "version": "3.8.5"
  }
 },
 "nbformat": 4,
 "nbformat_minor": 1
}
